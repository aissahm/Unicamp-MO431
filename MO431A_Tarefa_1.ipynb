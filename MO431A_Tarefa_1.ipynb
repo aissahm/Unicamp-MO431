{
  "nbformat": 4,
  "nbformat_minor": 0,
  "metadata": {
    "colab": {
      "name": "MO431A - Tarefa 1.ipynb",
      "provenance": [],
      "collapsed_sections": [],
      "authorship_tag": "ABX9TyMmJNS9YCtKTyCyP59Qg6/n",
      "include_colab_link": true
    },
    "kernelspec": {
      "name": "python3",
      "display_name": "Python 3"
    }
  },
  "cells": [
    {
      "cell_type": "markdown",
      "metadata": {
        "id": "view-in-github",
        "colab_type": "text"
      },
      "source": [
        "<a href=\"https://colab.research.google.com/github/aissahm/Unicamp-MO431/blob/master/MO431A_Tarefa_1.ipynb\" target=\"_parent\"><img src=\"https://colab.research.google.com/assets/colab-badge.svg\" alt=\"Open In Colab\"/></a>"
      ]
    },
    {
      "cell_type": "markdown",
      "metadata": {
        "id": "s6HhuHJ_SUg1",
        "colab_type": "text"
      },
      "source": [
        "Aissa Hadj Mohamed - RU 265189\n",
        "\n",
        "# **MO431A - Tarefa 1**"
      ]
    },
    {
      "cell_type": "markdown",
      "metadata": {
        "id": "-_jXwu-wSlxo",
        "colab_type": "text"
      },
      "source": [
        "**First, we import all the necessary libraries**\n",
        "\n",
        "*Para este projeto você precisa ter o Python 3.X, numpy, \n",
        "matplotlib e sklearn. Provavelmente você deve também \n",
        "usar o jupyter como modo interativo já que \n",
        "ele imprime as imagens (veja abaixo) na \n",
        "pagina com a interação.*"
      ]
    },
    {
      "cell_type": "code",
      "metadata": {
        "id": "HIC3R0EmSGnY",
        "colab_type": "code",
        "colab": {}
      },
      "source": [
        "import numpy\n",
        "import matplotlib\n",
        "import sklearn"
      ],
      "execution_count": 0,
      "outputs": []
    },
    {
      "cell_type": "markdown",
      "metadata": {
        "id": "X1yRQeUUTLJs",
        "colab_type": "text"
      },
      "source": [
        "Finally, we make sure we have the correct version of Python 3.X"
      ]
    },
    {
      "cell_type": "code",
      "metadata": {
        "id": "IjQurg3MTDNg",
        "colab_type": "code",
        "outputId": "ad2c9ab8-2f52-4103-8739-00b94f39f13c",
        "colab": {
          "base_uri": "https://localhost:8080/",
          "height": 34
        }
      },
      "source": [
        "import platform\n",
        "print(platform.python_version())"
      ],
      "execution_count": 0,
      "outputs": [
        {
          "output_type": "stream",
          "text": [
            "3.6.9\n"
          ],
          "name": "stdout"
        }
      ]
    },
    {
      "cell_type": "markdown",
      "metadata": {
        "id": "-nXsofnNTUhJ",
        "colab_type": "text"
      },
      "source": [
        "## **Leia o arquivo X.npy**\n",
        "\n",
        "*npy é um formato do numpy para armazenar matrizes de forma mais compacta que usando, por exemplo, um .csv*\n",
        "\n",
        "*o numpy.load lê arquivos npy*\n",
        "\n",
        "*X é um arquivo de 3023 linhas e 1850 colunas. Mas cada linha é na verdade uma imagem em tons de cinza de 50 por 37 pixels de pessoas famosas*\n",
        "\n",
        "*X.npy esta em* [http://www.ic.unicamp.br/~wainer/cursos/1s2019/X.npy "
      ]
    },
    {
      "cell_type": "markdown",
      "metadata": {
        "id": "XohF08ztG3EB",
        "colab_type": "text"
      },
      "source": [
        "We download the file X.npy from the url above."
      ]
    },
    {
      "cell_type": "code",
      "metadata": {
        "id": "AflB37OwTUVS",
        "colab_type": "code",
        "colab": {}
      },
      "source": [
        "!wget http://www.ic.unicamp.br/~wainer/cursos/1s2019/X.npy\n"
      ],
      "execution_count": 0,
      "outputs": []
    },
    {
      "cell_type": "code",
      "metadata": {
        "id": "OvR670tbVy6N",
        "colab_type": "code",
        "colab": {}
      },
      "source": [
        "X = numpy.load('X.npy')"
      ],
      "execution_count": 0,
      "outputs": []
    },
    {
      "cell_type": "markdown",
      "metadata": {
        "id": "JXtA4Q7GRISd",
        "colab_type": "text"
      },
      "source": [
        "We print X to get an idea on how it looks like."
      ]
    },
    {
      "cell_type": "code",
      "metadata": {
        "id": "bCsFPbRQWCSd",
        "colab_type": "code",
        "outputId": "b93e69cc-609e-41e9-8b6d-2467a6a46c1f",
        "colab": {
          "base_uri": "https://localhost:8080/",
          "height": 238
        }
      },
      "source": [
        "X"
      ],
      "execution_count": 0,
      "outputs": [
        {
          "output_type": "execute_result",
          "data": {
            "text/plain": [
              "array([[ 58.       ,  92.666664 , 156.66667  , ...,  19.       ,\n",
              "         17.666666 ,  19.666666 ],\n",
              "       [ 73.       ,  80.333336 ,  74.333336 , ...,   8.666667 ,\n",
              "          7.6666665,   7.6666665],\n",
              "       [ 18.666666 ,  16.       ,  16.666666 , ...,  52.666668 ,\n",
              "         23.       ,  24.666666 ],\n",
              "       ...,\n",
              "       [ 87.666664 ,  90.666664 ,  73.       , ..., 246.66667  ,\n",
              "        235.66667  , 230.66667  ],\n",
              "       [ 79.333336 ,  64.333336 ,  66.333336 , ...,  91.666664 ,\n",
              "         94.       ,  93.333336 ],\n",
              "       [ 88.       ,  95.666664 , 123.333336 , ...,  31.333334 ,\n",
              "         39.333332 ,  40.333332 ]], dtype=float32)"
            ]
          },
          "metadata": {
            "tags": []
          },
          "execution_count": 6
        }
      ]
    },
    {
      "cell_type": "markdown",
      "metadata": {
        "id": "bmitv9NsXYjN",
        "colab_type": "text"
      },
      "source": [
        "We verifiy the size of X is correct"
      ]
    },
    {
      "cell_type": "code",
      "metadata": {
        "id": "BBSL645dWGPf",
        "colab_type": "code",
        "outputId": "683b5679-e856-4957-f4e4-98cf40238bfb",
        "colab": {
          "base_uri": "https://localhost:8080/",
          "height": 34
        }
      },
      "source": [
        "print(\"number of rows: \", X[:,1].size , \", columns: \", X[1,:].size)"
      ],
      "execution_count": 0,
      "outputs": [
        {
          "output_type": "stream",
          "text": [
            "number of rows:  3023 , columns:  1850\n"
          ],
          "name": "stdout"
        }
      ]
    },
    {
      "cell_type": "markdown",
      "metadata": {
        "id": "fce4-t3BHAk6",
        "colab_type": "text"
      },
      "source": [
        "X.npy contains grayscale images. Thus, the values inside the matrix should be in range [0; 255]. Let's verify that."
      ]
    },
    {
      "cell_type": "code",
      "metadata": {
        "id": "b4sk5XpiHPZt",
        "colab_type": "code",
        "outputId": "44d69064-d569-447a-82ab-e85654884765",
        "colab": {
          "base_uri": "https://localhost:8080/",
          "height": 51
        }
      },
      "source": [
        "print(\"lowest value containted in X: \", X.min())\n",
        "print(\"highest value containted in X: \",X.max())"
      ],
      "execution_count": 0,
      "outputs": [
        {
          "output_type": "stream",
          "text": [
            "lowest value containted in X:  0.0\n",
            "highest value containted in X:  255.0\n"
          ],
          "name": "stdout"
        }
      ]
    },
    {
      "cell_type": "markdown",
      "metadata": {
        "id": "txoa33QUXjb0",
        "colab_type": "text"
      },
      "source": [
        "## **Imprima a imagem da primeira pessoa.**\n",
        "\n",
        "*A função imshow do subpacote pyplot do matplotlib imprime uma imagem. Mas cada linha da matriz X precisa ser transformada numa matriz 50x37 para que o imshow funcione (veja o reshape do numpy). Ha também a codificação de cores da imagem; como a imagem é em tons de cinza a codificação é a cm.gray*"
      ]
    },
    {
      "cell_type": "markdown",
      "metadata": {
        "id": "-Zgy5d--I0_5",
        "colab_type": "text"
      },
      "source": [
        "Let's get the first image. For that, we extract the first row of X, we rearrange it as an 50x37 matrix."
      ]
    },
    {
      "cell_type": "code",
      "metadata": {
        "id": "Y127CNo4Xu0M",
        "colab_type": "code",
        "colab": {}
      },
      "source": [
        "X_0 = numpy.reshape(X[0], (50,-1))"
      ],
      "execution_count": 0,
      "outputs": []
    },
    {
      "cell_type": "code",
      "metadata": {
        "id": "qDOy8lyyacpl",
        "colab_type": "code",
        "outputId": "633b047d-de8e-4678-c3c0-7a825eab3dea",
        "colab": {
          "base_uri": "https://localhost:8080/",
          "height": 34
        }
      },
      "source": [
        "print(X_0.size)"
      ],
      "execution_count": 0,
      "outputs": [
        {
          "output_type": "stream",
          "text": [
            "1850\n"
          ],
          "name": "stdout"
        }
      ]
    },
    {
      "cell_type": "code",
      "metadata": {
        "id": "ElKQkANta-pF",
        "colab_type": "code",
        "outputId": "88173e47-35dc-4c67-dd6e-c580da48b1a2",
        "colab": {
          "base_uri": "https://localhost:8080/",
          "height": 284
        }
      },
      "source": [
        "from matplotlib import cm\n",
        "matplotlib.pyplot.imshow(X_0, cmap=cm.gray)"
      ],
      "execution_count": 0,
      "outputs": [
        {
          "output_type": "execute_result",
          "data": {
            "text/plain": [
              "<matplotlib.image.AxesImage at 0x7f0f69686b70>"
            ]
          },
          "metadata": {
            "tags": []
          },
          "execution_count": 9
        },
        {
          "output_type": "display_data",
          "data": {
            "image/png": "[encoded data removed]",
            "text/plain": [
              "<Figure size 432x288 with 1 Axes>"
            ]
          },
          "metadata": {
            "tags": []
          }
        }
      ]
    },
    {
      "cell_type": "markdown",
      "metadata": {
        "id": "k9iUDUNdRWPI",
        "colab_type": "text"
      },
      "source": [
        "The first image is of a woman. The quality isn't that great since the image is blury and we can clearly see each pixel of the picture."
      ]
    },
    {
      "cell_type": "markdown",
      "metadata": {
        "id": "l8X_ujlZbWuM",
        "colab_type": "text"
      },
      "source": [
        "## **Faça a fatoração svd da matriz X.**\n",
        "\n",
        "*A função é svd, do subpacote linalg do numpy faz a fatoração svd.*\n",
        "\n",
        "*Lembre-se que nos vimos várias formulações para a fatoração SVD A = U D V^{-1} onde A é m x n. Na primeira formulação (do wikipedia por exemplo), que nós chamamos de full matix U é m x m, D é m x n, e V^{-1} é n x n. Esta fatoração é obtida pelo svd quando o parâmetro full_matrices é True. A segunda formulação que acho que chamamos de compacta é U é m x n, D é n x n, e V^{-1} é n x n, que é obtida quando full_matrizes é False. Gere as 2 fatorações svd e mostre que as matrizes são dos tamanhos corretos.*"
      ]
    },
    {
      "cell_type": "markdown",
      "metadata": {
        "id": "CHQd4f2yiMF3",
        "colab_type": "text"
      },
      "source": [
        "**Primeira formulação com parametro full_matrices = True**"
      ]
    },
    {
      "cell_type": "code",
      "metadata": {
        "id": "AqcIjpCVbqHp",
        "colab_type": "code",
        "colab": {}
      },
      "source": [
        "U, D, V_inverse = numpy.linalg.svd(X, full_matrices=True)"
      ],
      "execution_count": 0,
      "outputs": []
    },
    {
      "cell_type": "code",
      "metadata": {
        "id": "N4O_QRZDikys",
        "colab_type": "code",
        "outputId": "abf8574c-5cc7-46a9-9f02-421f9393b765",
        "colab": {
          "base_uri": "https://localhost:8080/",
          "height": 34
        }
      },
      "source": [
        "print(U.shape, D.shape, V_inverse.shape )"
      ],
      "execution_count": 0,
      "outputs": [
        {
          "output_type": "stream",
          "text": [
            "(3023, 3023) (1850,) (1850, 1850)\n"
          ],
          "name": "stdout"
        }
      ]
    },
    {
      "cell_type": "markdown",
      "metadata": {
        "id": "dp9L5WwakI3q",
        "colab_type": "text"
      },
      "source": [
        "U and V_inverse have respectively sizes of 3023x3203, and 1850x1850. They are of correct sizes as expected. \n",
        "\n",
        "D is an 1850-element array. It contains all the singular values of X. As returned by the svd function from Numpy, it is a 3023x1850 matrix (its number of rows matches the number of columns of U, that is 3023)."
      ]
    },
    {
      "cell_type": "markdown",
      "metadata": {
        "id": "GQN1tFVklF9a",
        "colab_type": "text"
      },
      "source": [
        "**Segunda formulação com parametro full_matrices = False**\n",
        "\n",
        "\n",
        "For more clarity, with the parameter full_matrices equal to false, we define U_2, D_2, and V_2_inverse for the SVD decomposition of X. "
      ]
    },
    {
      "cell_type": "code",
      "metadata": {
        "id": "SKXklUx8lMZW",
        "colab_type": "code",
        "colab": {}
      },
      "source": [
        "U_2, D_2, V_2_inverse = numpy.linalg.svd(X, full_matrices=False)"
      ],
      "execution_count": 0,
      "outputs": []
    },
    {
      "cell_type": "markdown",
      "metadata": {
        "id": "qVvVAOO-J-9B",
        "colab_type": "text"
      },
      "source": [
        "Let's verify that the size of each matrix is correct."
      ]
    },
    {
      "cell_type": "code",
      "metadata": {
        "id": "gLX10kyPlUZ7",
        "colab_type": "code",
        "outputId": "c024f858-9631-408f-919a-33e94ae1873f",
        "colab": {
          "base_uri": "https://localhost:8080/",
          "height": 34
        }
      },
      "source": [
        "print(U_2.shape, D_2.shape, V_2_inverse.shape )"
      ],
      "execution_count": 0,
      "outputs": [
        {
          "output_type": "stream",
          "text": [
            "(3023, 1850) (1850,) (1850, 1850)\n"
          ],
          "name": "stdout"
        }
      ]
    },
    {
      "cell_type": "markdown",
      "metadata": {
        "id": "AeP-ICOylbIm",
        "colab_type": "text"
      },
      "source": [
        "U and V_inverse have respectively sizes of 3023x1850, and 1850x1850. They are of correct sizes as expected. \n",
        "\n",
        "D is an 1850-element array. It contains all the singular values of X. As returned by the svd function from Numpy it is a 1850x1850 matrix (its number of rows matches the number of columns of U, that is 1850)."
      ]
    },
    {
      "cell_type": "markdown",
      "metadata": {
        "id": "z0_pE--Hlop0",
        "colab_type": "text"
      },
      "source": [
        "## **Verifique a formulação compacta do SVD**\n",
        "\n",
        "*Verifique o maior valor em modulo da diferença X - (U D V^{-1}), usando a 2a formulação. O maior valor em modulo é o maior erro da fatoração em relação a algum dado original. Compare esse valor do maior erro com o valor médio dos dados em X. Verifique que o erro é bem baixo. Note que o svd do numpy não retorna D como uma matriz (n x n) mas sim como um vetor com os elementos da matriz diagonal.*"
      ]
    },
    {
      "cell_type": "markdown",
      "metadata": {
        "id": "3HSExKOtreTg",
        "colab_type": "text"
      },
      "source": [
        "Let's define the matrix Delta as equal to the difference X-(UDV_inv)."
      ]
    },
    {
      "cell_type": "code",
      "metadata": {
        "id": "lJf3S88Vly0l",
        "colab_type": "code",
        "colab": {}
      },
      "source": [
        "Delta = X - numpy.dot(U_2[:, :1850] * D_2, V_2_inverse)"
      ],
      "execution_count": 0,
      "outputs": []
    },
    {
      "cell_type": "markdown",
      "metadata": {
        "id": "MxHv-spvsKAQ",
        "colab_type": "text"
      },
      "source": [
        "Now, to get the highest entry in absolute value from the matrix Delta, we get its smallest as well as its highest values ."
      ]
    },
    {
      "cell_type": "code",
      "metadata": {
        "id": "B_VdggKJsOgZ",
        "colab_type": "code",
        "outputId": "230a45f4-e1f6-4d55-c346-39823bedd025",
        "colab": {
          "base_uri": "https://localhost:8080/",
          "height": 51
        }
      },
      "source": [
        "print(Delta.min())\n",
        "print(Delta.max())"
      ],
      "execution_count": 0,
      "outputs": [
        {
          "output_type": "stream",
          "text": [
            "-0.00047302246\n",
            "0.00044250488\n"
          ],
          "name": "stdout"
        }
      ]
    },
    {
      "cell_type": "markdown",
      "metadata": {
        "id": "kIXg2K_stXbW",
        "colab_type": "text"
      },
      "source": [
        "The highest entry in absolute value is 0.00047302246, and thus it is almost null. That means that U D V^{-1} can be considered equal to X. \n",
        "\n",
        "Now, we compute the average entry value from X. Then, we express the highest error value as a percentage to the mean value of X."
      ]
    },
    {
      "cell_type": "code",
      "metadata": {
        "id": "Zh_p6yk5trAa",
        "colab_type": "code",
        "outputId": "6dcb7b1a-e096-4512-de33-81b779d9e763",
        "colab": {
          "base_uri": "https://localhost:8080/",
          "height": 51
        }
      },
      "source": [
        "X_mean = numpy.mean(X)\n",
        "print(\"Mean value of X entries = \", X_mean)\n",
        "\n",
        "percentage_ratio = -1 * Delta.min() * 100 / X_mean \n",
        "print(\"Ratio of the highest error value to the mean value of X = \",percentage_ratio)"
      ],
      "execution_count": 0,
      "outputs": [
        {
          "output_type": "stream",
          "text": [
            "Mean value of X entries =  129.54884\n",
            "Ratio of the highest error value to the mean value of X =  0.00036513059366818793\n"
          ],
          "name": "stdout"
        }
      ]
    },
    {
      "cell_type": "markdown",
      "metadata": {
        "id": "Og6WdeKvuEtJ",
        "colab_type": "text"
      },
      "source": [
        "Comparing the highest difference in value from the difference between X and its second SVD formulation and the average of the values of X, we clearly see that the difference is almost zero (0.00036%). We can thus safely aproximate X with its compact SVD fomulation as returned by Numpy."
      ]
    },
    {
      "cell_type": "markdown",
      "metadata": {
        "id": "nklc3ZSpveOy",
        "colab_type": "text"
      },
      "source": [
        "## **Compute a matriz reduzida e a matriz reconstruída**\n",
        "\n",
        "*Vamos usar a redução para 100 dimensões.*\n",
        "\n",
        "**Matriz reduzida**\n",
        "\n",
        "*O objetivo da redução da dimensionalidade da matriz X (3023 x 1850) é obter uma matriz com menos colunas k < 1850 que representa mais ou menos a mesma informação que X, mas com menos espaço de memória. Neste exercício, vamos usar k=100, ou seja queremos projetar cada imagem (que esta num espaço de 1850 dimensões) no melhor subespaço de 100 dimensões (quase 5% do número de dimensões originais) que representa ainda dos dados. Ou de outra forma, encontrar o subespaço de 150 dimensões cujo erro (quadrado) entre o dado original e sua projeção nesse subespaço seja a menos possível.*\n",
        "A matriz reduzida de X será uma matriz de 3023 linhas (o mesmo numero de dados/imagens) mas de 100 colunas.* *A formulação do SVD para redução de dimensionalidade é X approx =  U_k D_k V_{k}^{-1}, onde U_k é a matriz U com apenas as primeiras k colunas, D_k é a matriz diagonal D com apenas as primeiras k linhas e colunas ou seja, X é aproximado pelo produto U_k D_k V_k^{-1}. A matriz U_k D_k é a matriz reduzida - cada ponto de dado original (3023 deles), que antes tinha 1850 dimensões, agora tem 100 dimensões!"
      ]
    },
    {
      "cell_type": "markdown",
      "metadata": {
        "id": "ED3K9v2S2EpP",
        "colab_type": "text"
      },
      "source": [
        "To get the reduced matrix X_reduzed of X, we first get U_100 (containing the first 100 columns of U), D_100 containing the first 100 columns and rows of D. "
      ]
    },
    {
      "cell_type": "code",
      "metadata": {
        "id": "6igb_Q-43s9l",
        "colab_type": "code",
        "outputId": "8d2b6110-f028-4687-9511-ce6e1638b631",
        "colab": {
          "base_uri": "https://localhost:8080/",
          "height": 34
        }
      },
      "source": [
        "U_100 = U[:3023,:100]\n",
        "D_100 = D[:100]\n",
        "X_red = U_100 * D_100\n",
        "X_red.shape"
      ],
      "execution_count": 0,
      "outputs": [
        {
          "output_type": "execute_result",
          "data": {
            "text/plain": [
              "(3023, 100)"
            ]
          },
          "metadata": {
            "tags": []
          },
          "execution_count": 15
        }
      ]
    },
    {
      "cell_type": "markdown",
      "metadata": {
        "id": "swDRYGm1M1gQ",
        "colab_type": "text"
      },
      "source": [
        "Below is the reduced matrix of X."
      ]
    },
    {
      "cell_type": "code",
      "metadata": {
        "id": "RgV516XiMlcc",
        "colab_type": "code",
        "outputId": "921bdb1b-bccf-45eb-a917-30b60ad35916",
        "colab": {
          "base_uri": "https://localhost:8080/",
          "height": 238
        }
      },
      "source": [
        "X_red"
      ],
      "execution_count": 0,
      "outputs": [
        {
          "output_type": "execute_result",
          "data": {
            "text/plain": [
              "array([[-6.13680762e+03, -6.11641724e+02,  1.33340805e+02, ...,\n",
              "         3.55448761e+01, -1.12824440e+01,  5.65715904e+01],\n",
              "       [-5.64081494e+03, -7.66075684e+02, -4.05498566e+02, ...,\n",
              "        -5.05070534e+01,  2.04780350e+01, -2.16700401e+01],\n",
              "       [-4.16204736e+03,  4.47663086e+02,  1.29236145e+02, ...,\n",
              "        -6.39729424e+01,  6.81879120e+01, -4.65324821e+01],\n",
              "       ...,\n",
              "       [-5.49598779e+03,  2.89236389e+02, -1.85689178e+02, ...,\n",
              "        -1.51183958e+01, -3.12101307e+01, -7.52305603e+01],\n",
              "       [-6.19488965e+03, -4.94539703e+02,  3.74282532e+01, ...,\n",
              "        -4.82761383e+01, -2.15338936e+01, -6.27454605e+01],\n",
              "       [-5.56833789e+03,  2.42458115e+02, -5.67365234e+02, ...,\n",
              "         1.08143295e+02,  4.25028648e+01,  4.78551054e+00]], dtype=float32)"
            ]
          },
          "metadata": {
            "tags": []
          },
          "execution_count": 17
        }
      ]
    },
    {
      "cell_type": "markdown",
      "metadata": {
        "id": "JvVn6nGf5zje",
        "colab_type": "text"
      },
      "source": [
        "**Matriz reconstruída**\n",
        "\n",
        "*A matriz reconstruída é uma matriz no espaço original (de 1850 dimensões) onde em vez da posição original de cada ponto, a linha representa a posição (no espaço de 1850 dimensões) da projeção do ponto no subespaço de 100 dimensões. A matriz reconstruída deve ter 1850 dimensões mas em vez da imagem original. temos a imagem quando projetada no subespaço de 100 dimensões da redução. A formula para a matriz reconstruída X_r é: X_r = U_k D_k V_k^{-1}*\n",
        "​\t"
      ]
    },
    {
      "cell_type": "markdown",
      "metadata": {
        "id": "CXBdba7E6Bgk",
        "colab_type": "text"
      },
      "source": [
        "We define V_inv_100 as a matrix containing the first 100 rows of V_inv."
      ]
    },
    {
      "cell_type": "code",
      "metadata": {
        "id": "Z4zzK7mf5-tW",
        "colab_type": "code",
        "colab": {}
      },
      "source": [
        "V_inv_100 = V_2_inverse[:100,:]"
      ],
      "execution_count": 0,
      "outputs": []
    },
    {
      "cell_type": "markdown",
      "metadata": {
        "id": "_DNKCj6iWYTu",
        "colab_type": "text"
      },
      "source": [
        "To reconstruct X, we do the matrix multiplication of the reduction of X  (X_red) with V_inv_100."
      ]
    },
    {
      "cell_type": "code",
      "metadata": {
        "id": "ePsdViNo6hpt",
        "colab_type": "code",
        "colab": {}
      },
      "source": [
        "X_r = numpy.dot(X_red, V_inv_100)"
      ],
      "execution_count": 0,
      "outputs": []
    },
    {
      "cell_type": "markdown",
      "metadata": {
        "id": "xtb7lWj2WlaR",
        "colab_type": "text"
      },
      "source": [
        "Then, we take the first row of X_r, representing the first image, and we rearrange it as 50x37 matrix."
      ]
    },
    {
      "cell_type": "code",
      "metadata": {
        "id": "nBRjCJ0v65QS",
        "colab_type": "code",
        "colab": {}
      },
      "source": [
        "X_r_0 = numpy.reshape(X_r[0], (50,-1))"
      ],
      "execution_count": 0,
      "outputs": []
    },
    {
      "cell_type": "markdown",
      "metadata": {
        "id": "l6jEx4e_W09g",
        "colab_type": "text"
      },
      "source": [
        "We verify that we get the right size."
      ]
    },
    {
      "cell_type": "code",
      "metadata": {
        "id": "5gi5abFK7KLd",
        "colab_type": "code",
        "outputId": "adab7a41-3909-4f02-b96f-500f3996354b",
        "colab": {
          "base_uri": "https://localhost:8080/",
          "height": 34
        }
      },
      "source": [
        "X_r_0.shape"
      ],
      "execution_count": 0,
      "outputs": [
        {
          "output_type": "execute_result",
          "data": {
            "text/plain": [
              "(50, 37)"
            ]
          },
          "metadata": {
            "tags": []
          },
          "execution_count": 22
        }
      ]
    },
    {
      "cell_type": "code",
      "metadata": {
        "id": "ks0EUSuj7JEU",
        "colab_type": "code",
        "outputId": "48d3034b-041b-42be-8457-e47dca465adb",
        "colab": {
          "base_uri": "https://localhost:8080/",
          "height": 284
        }
      },
      "source": [
        "from matplotlib import cm\n",
        "matplotlib.pyplot.imshow(X_r_0, cmap=cm.gray)"
      ],
      "execution_count": 0,
      "outputs": [
        {
          "output_type": "execute_result",
          "data": {
            "text/plain": [
              "<matplotlib.image.AxesImage at 0x7fd3acf4ea20>"
            ]
          },
          "metadata": {
            "tags": []
          },
          "execution_count": 35
        },
        {
          "output_type": "display_data",
          "data": {
            "image/png": "[encoded data removed]",
            "text/plain": [
              "<Figure size 432x288 with 1 Axes>"
            ]
          },
          "metadata": {
            "tags": []
          }
        }
      ]
    },
    {
      "cell_type": "markdown",
      "metadata": {
        "id": "52o6NG7C7Zer",
        "colab_type": "text"
      },
      "source": [
        "The picture from the reduced matrix looks even more blurry than the original image. \n",
        "\n",
        "However, we reduced the dimensions of X by more than 95% and we still have a very good quality picture for such reduction in dimension."
      ]
    },
    {
      "cell_type": "markdown",
      "metadata": {
        "id": "XJqRGJ618UrT",
        "colab_type": "text"
      },
      "source": [
        "**Using sklearn**\n",
        "\n",
        "\n",
        "Now, we try to get the same results as above using the library Sklearn."
      ]
    },
    {
      "cell_type": "code",
      "metadata": {
        "id": "0phnG7ID8YOQ",
        "colab_type": "code",
        "colab": {}
      },
      "source": [
        "from sklearn.decomposition import TruncatedSVD\n",
        "from scipy.linalg import svd"
      ],
      "execution_count": 0,
      "outputs": []
    },
    {
      "cell_type": "markdown",
      "metadata": {
        "id": "H3-tV1-qXZkc",
        "colab_type": "text"
      },
      "source": [
        "Using the function fit_transform, we obtain the truncated matrix of X with 100 dimensions."
      ]
    },
    {
      "cell_type": "code",
      "metadata": {
        "id": "MHUR0lTT8Zpq",
        "colab_type": "code",
        "colab": {}
      },
      "source": [
        "k = 100\n",
        "svd = TruncatedSVD(k)\n",
        "X_truncated = svd.fit_transform(X)\n",
        "V_inv_100_sklearn = svd.components_"
      ],
      "execution_count": 0,
      "outputs": []
    },
    {
      "cell_type": "markdown",
      "metadata": {
        "id": "tfDYJ5NmXnFE",
        "colab_type": "text"
      },
      "source": [
        "We verify the size of X_truncated and V_inverse_100."
      ]
    },
    {
      "cell_type": "code",
      "metadata": {
        "id": "oolvrBgq9vVB",
        "colab_type": "code",
        "outputId": "00236c7b-32ec-415e-ed25-37ef030b82c9",
        "colab": {
          "base_uri": "https://localhost:8080/",
          "height": 34
        }
      },
      "source": [
        "X_truncated.shape\n",
        "V_inv_100_sklearn.shape"
      ],
      "execution_count": 0,
      "outputs": [
        {
          "output_type": "execute_result",
          "data": {
            "text/plain": [
              "(100, 1850)"
            ]
          },
          "metadata": {
            "tags": []
          },
          "execution_count": 25
        }
      ]
    },
    {
      "cell_type": "markdown",
      "metadata": {
        "id": "o-bi_qEoX0AA",
        "colab_type": "text"
      },
      "source": [
        "In order to reconstruct X back to its 1850-dimension space from the truncated matrix of X, we do a matrix multiplication with V_100_sklearn."
      ]
    },
    {
      "cell_type": "code",
      "metadata": {
        "id": "_VaGQsGpevSj",
        "colab_type": "code",
        "outputId": "83febd2e-a859-4ed7-b961-3a982e8db006",
        "colab": {
          "base_uri": "https://localhost:8080/",
          "height": 34
        }
      },
      "source": [
        "X_truncated_2 = numpy.dot(X_truncated, V_inv_100_sklearn)\n",
        "X_truncated_2.shape"
      ],
      "execution_count": 0,
      "outputs": [
        {
          "output_type": "execute_result",
          "data": {
            "text/plain": [
              "(3023, 1850)"
            ]
          },
          "metadata": {
            "tags": []
          },
          "execution_count": 26
        }
      ]
    },
    {
      "cell_type": "markdown",
      "metadata": {
        "id": "FYBAepWRYDME",
        "colab_type": "text"
      },
      "source": [
        "Now, we get the first row that contains the first image, and rearrange it into a 50x37 matrix."
      ]
    },
    {
      "cell_type": "code",
      "metadata": {
        "id": "ZVpbyVISe2nv",
        "colab_type": "code",
        "outputId": "c82918da-1847-4da0-a9be-fcc40765ac1e",
        "colab": {
          "base_uri": "https://localhost:8080/",
          "height": 34
        }
      },
      "source": [
        "X_truncated_0 = numpy.reshape(X_truncated_2[0], (50,-1))\n",
        "X_truncated_0.shape"
      ],
      "execution_count": 0,
      "outputs": [
        {
          "output_type": "execute_result",
          "data": {
            "text/plain": [
              "(50, 37)"
            ]
          },
          "metadata": {
            "tags": []
          },
          "execution_count": 27
        }
      ]
    },
    {
      "cell_type": "code",
      "metadata": {
        "id": "xOTrSai8e6VX",
        "colab_type": "code",
        "outputId": "648c9158-004f-49ea-e07d-7c05db100db1",
        "colab": {
          "base_uri": "https://localhost:8080/",
          "height": 284
        }
      },
      "source": [
        "from matplotlib import cm\n",
        "matplotlib.pyplot.imshow(X_truncated_0, cmap=cm.gray)"
      ],
      "execution_count": 0,
      "outputs": [
        {
          "output_type": "execute_result",
          "data": {
            "text/plain": [
              "<matplotlib.image.AxesImage at 0x7fd3acedcf60>"
            ]
          },
          "metadata": {
            "tags": []
          },
          "execution_count": 37
        },
        {
          "output_type": "display_data",
          "data": {
            "image/png": "[encoded data removed]",
            "text/plain": [
              "<Figure size 432x288 with 1 Axes>"
            ]
          },
          "metadata": {
            "tags": []
          }
        }
      ]
    },
    {
      "cell_type": "markdown",
      "metadata": {
        "id": "xYph3JNvYltP",
        "colab_type": "text"
      },
      "source": [
        "We reprint below the image we got by using Numpy."
      ]
    },
    {
      "cell_type": "code",
      "metadata": {
        "id": "1lrpRPzPYh-5",
        "colab_type": "code",
        "outputId": "e53715e5-01fc-41ad-c6ba-f35b4a77d650",
        "colab": {
          "base_uri": "https://localhost:8080/",
          "height": 284
        }
      },
      "source": [
        "matplotlib.pyplot.imshow(X_r_0, cmap=cm.gray)"
      ],
      "execution_count": 0,
      "outputs": [
        {
          "output_type": "execute_result",
          "data": {
            "text/plain": [
              "<matplotlib.image.AxesImage at 0x7fd3ace535c0>"
            ]
          },
          "metadata": {
            "tags": []
          },
          "execution_count": 38
        },
        {
          "output_type": "display_data",
          "data": {
            "image/png": "[encoded data removed]",
            "text/plain": [
              "<Figure size 432x288 with 1 Axes>"
            ]
          },
          "metadata": {
            "tags": []
          }
        }
      ]
    },
    {
      "cell_type": "markdown",
      "metadata": {
        "id": "Lqp-H5j-YvTU",
        "colab_type": "text"
      },
      "source": [
        "As we can see, we get the exact same results by either using Numpy or Sklearn."
      ]
    },
    {
      "cell_type": "markdown",
      "metadata": {
        "id": "Bj4lVfJRSBCv",
        "colab_type": "text"
      },
      "source": [
        "Let's investigate the differences between the reconstructed matrices, from the two methods (Numpy and Sklearn), with the original matrix X."
      ]
    },
    {
      "cell_type": "code",
      "metadata": {
        "id": "y_1JZ-gTRjZH",
        "colab_type": "code",
        "colab": {}
      },
      "source": [
        "Delta_sklearn = X - X_truncated_2"
      ],
      "execution_count": 0,
      "outputs": []
    },
    {
      "cell_type": "code",
      "metadata": {
        "id": "hTcVl1n-RpU-",
        "colab_type": "code",
        "outputId": "1e3664db-f478-4024-d37c-38c80524f2ed",
        "colab": {
          "base_uri": "https://localhost:8080/",
          "height": 68
        }
      },
      "source": [
        "print(Delta_sklearn.min())\n",
        "print(Delta_sklearn.max())\n",
        "\n",
        "print (numpy.absolute(Delta_sklearn).mean())"
      ],
      "execution_count": 0,
      "outputs": [
        {
          "output_type": "stream",
          "text": [
            "-127.00249\n",
            "140.34256\n",
            "8.164033\n"
          ],
          "name": "stdout"
        }
      ]
    },
    {
      "cell_type": "code",
      "metadata": {
        "id": "S8uUsSN_R08E",
        "colab_type": "code",
        "colab": {}
      },
      "source": [
        "Delta_numpy = X - X_r"
      ],
      "execution_count": 0,
      "outputs": []
    },
    {
      "cell_type": "code",
      "metadata": {
        "id": "n83qq1FiR3W3",
        "colab_type": "code",
        "outputId": "b5e9b434-c633-4e5a-e245-6c54313d0cef",
        "colab": {
          "base_uri": "https://localhost:8080/",
          "height": 68
        }
      },
      "source": [
        "print(Delta_numpy.min())\n",
        "print(Delta_numpy.max())\n",
        "\n",
        "print (numpy.absolute(Delta_numpy).mean())"
      ],
      "execution_count": 0,
      "outputs": [
        {
          "output_type": "stream",
          "text": [
            "-123.612305\n",
            "136.08739\n",
            "8.148394\n"
          ],
          "name": "stdout"
        }
      ]
    },
    {
      "cell_type": "markdown",
      "metadata": {
        "id": "nd-eCmiXTJ_6",
        "colab_type": "text"
      },
      "source": [
        "At first, if we look at the difference for each pixel, it looks like reconstructing the matrix X is a bad method to approximate X, since the difference could jump to 140. The grayscale image range is of 255. \n",
        "\n",
        "If we compute the average absolute value of the errors for the two methods (8.16 for Sklearn, and 8.14 for Numpy), we can see that the error is very small. Expressed as a percentage of the grayscale image range of [0, 255], it's equal to 3.2% more or less. \n",
        "\n",
        "The differences between the two reconstructed matrices (using Numpy and Sklearn) with the original matrix X is very small. Taking into account that we decreased the dimensions of X by 95%, we managed to get an error rate of 3.2%. Thus, the two methods are very efficient at decreasing the memory needed to store X."
      ]
    }
  ]
}