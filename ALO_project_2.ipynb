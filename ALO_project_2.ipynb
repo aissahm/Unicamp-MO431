{
  "nbformat": 4,
  "nbformat_minor": 0,
  "metadata": {
    "colab": {
      "name": "ALO_project_2.ipynb",
      "provenance": [],
      "collapsed_sections": [],
      "authorship_tag": "ABX9TyMMVBYG8mYJLJmIWkGk3WTG",
      "include_colab_link": true
    },
    "kernelspec": {
      "name": "python3",
      "display_name": "Python 3"
    }
  },
  "cells": [
    {
      "cell_type": "markdown",
      "metadata": {
        "id": "view-in-github",
        "colab_type": "text"
      },
      "source": [
        "<a href=\"https://colab.research.google.com/github/aissahm/Unicamp-MO431/blob/master/ALO_project_2.ipynb\" target=\"_parent\"><img src=\"https://colab.research.google.com/assets/colab-badge.svg\" alt=\"Open In Colab\"/></a>"
      ]
    },
    {
      "cell_type": "markdown",
      "metadata": {
        "id": "SoyitCWEp1yY",
        "colab_type": "text"
      },
      "source": [
        "Aissa Hadj Mohamed - RU 265189\n",
        "\n",
        "### **2o Exercício de casa**"
      ]
    },
    {
      "cell_type": "markdown",
      "metadata": {
        "id": "ovRyhYjhMyXJ",
        "colab_type": "text"
      },
      "source": [
        "# **Using Gradient Descent explicitly**\n"
      ]
    },
    {
      "cell_type": "code",
      "metadata": {
        "id": "KMH_S_RZSezh",
        "colab_type": "code",
        "colab": {}
      },
      "source": [
        "import numpy as np"
      ],
      "execution_count": 0,
      "outputs": []
    },
    {
      "cell_type": "markdown",
      "metadata": {
        "id": "g4yTD6ae37mp",
        "colab_type": "text"
      },
      "source": [
        "We define the Rosenbrock function below. We compute the gradient of the function of Rosenbrock by hand and implement the function that returns its gradient given (x1, x2, x3) as below. "
      ]
    },
    {
      "cell_type": "code",
      "metadata": {
        "id": "_c1FCf-DpwYU",
        "colab_type": "code",
        "colab": {}
      },
      "source": [
        "def rosenbrock(x):\n",
        "  x1 = x[0]\n",
        "  x2 = x[1]\n",
        "  x3 = x[2]\n",
        "  return 100*(x2-x1**2)**2+(1-x1)**2 + 100*(x3-x2**2)**2+(1-x2)**2\n",
        "\n",
        "def grad_f (x):\n",
        "  x1 = x[0]\n",
        "  x2 = x[1]\n",
        "  x3 = x[2]\n",
        "  dx1 = 100*2.0*(-2*x1)*(x2-x1**2)-2*(1-x1)\n",
        "  dx2 = 100*2.0*(x2-x1**2) + 100*2*(-2*x2)*(x3-x2**2) - 2*(1-x2)\n",
        "  dx3 = 100* 2.0 * (x3-x2**2)\n",
        "  return np.array([dx1, dx2, dx3])"
      ],
      "execution_count": 0,
      "outputs": []
    },
    {
      "cell_type": "markdown",
      "metadata": {
        "id": "R_CSxPsp4XH0",
        "colab_type": "text"
      },
      "source": [
        "Below we define the Euclidean norm, and the convergence test."
      ]
    },
    {
      "cell_type": "code",
      "metadata": {
        "id": "WbMpYEyaNX-O",
        "colab_type": "code",
        "colab": {}
      },
      "source": [
        "def euclidean_norm(x):\n",
        "  return (x[0]**2 + x[1]**2 + x[2]**2 )**(0.5)\n",
        "\n",
        "def convergence_test (x_new, x_old):\n",
        "  x = x_new - x_old\n",
        "  euc_norm_x = euclidean_norm(x)\n",
        "  euc_norm_x_old = euclidean_norm(x_old)\n",
        "\n",
        "  if euc_norm_x_old > 0:\n",
        "    return euc_norm_x / euc_norm_x_old\n",
        "  else:\n",
        "    return \"error: dividing by null vector\""
      ],
      "execution_count": 0,
      "outputs": []
    },
    {
      "cell_type": "markdown",
      "metadata": {
        "id": "0AQxgquZ4bi7",
        "colab_type": "text"
      },
      "source": [
        "Below we define the gradient descent function, given a starting point, the minimum distance between two points before stopping the algorithm (called the tolerance), and the maximum number of iterations before stopping the algorithm."
      ]
    },
    {
      "cell_type": "code",
      "metadata": {
        "id": "ktXzanQaSwt7",
        "colab_type": "code",
        "colab": {}
      },
      "source": [
        "def gradient_descent(x_initial, lr, tolerance_thres, max_iterations):\n",
        "    x_new =  x_initial - lr * grad_f(x_initial)\n",
        "    tol = 10\n",
        "    grad_desc = []\n",
        "    grad_desc.append( rosenbrock(x_new) )\n",
        "    x_prev = x_new\n",
        "    n = 0\n",
        "    while n < max_iterations:\n",
        "      x =  x_prev - lr * grad_f(x_prev)\n",
        "      tol = convergence_test (x, x_prev)\n",
        "      grad_desc.append( rosenbrock(x))\n",
        "      x_prev = x\n",
        "      n = n + 1\n",
        "      if tol < tolerance_thres:\n",
        "        break\n",
        "    return [grad_desc,x_prev]"
      ],
      "execution_count": 0,
      "outputs": []
    },
    {
      "cell_type": "markdown",
      "metadata": {
        "id": "ZYLCCF5siKU2",
        "colab_type": "text"
      },
      "source": [
        "**With a learning rate of 1.0x10E-4:**"
      ]
    },
    {
      "cell_type": "code",
      "metadata": {
        "id": "b-qmqjvMWjr3",
        "colab_type": "code",
        "outputId": "01ead29b-0972-493c-8d8b-7489e0807eaf",
        "colab": {
          "base_uri": "https://localhost:8080/",
          "height": 122
        }
      },
      "source": [
        "x_initial = np.array([0.0,0.0,0.0])\n",
        "lr = 1.0*10**(-4)\n",
        "tolerance_thres = 1.0*10**(-4)\n",
        "maximum_iterations = 20000\n",
        "result, final_x  = gradient_descent(x_initial, lr, tolerance_thres, maximum_iterations)\n",
        "\n",
        "print(\"learning rate : \", lr)\n",
        "print(\"number of iterations: \", len(result))\n",
        "print(\"local minimum value reached: \", result[len(result)-1])\n",
        "print(\"last position:\", final_x)\n",
        "print(\"first and last 10 values of Rosenbrock function for each iteration: \", result[:10], \" ... \", result[-10:])"
      ],
      "execution_count": 0,
      "outputs": [
        {
          "output_type": "stream",
          "text": [
            "learning rate :  0.0001\n",
            "number of iterations:  5893\n",
            "local minimum value reached:  0.3387147658078196\n",
            "last position: [0.7063967  0.49834155 0.24550212]\n",
            "first and last 10 values of Rosenbrock function for each iteration:  [1.99920407840032, 1.998424137787684, 1.9976595265732997, 1.996909619376872, 1.9961738159731612, 1.995451540281017, 1.9947422393931606, 1.9940453826450537, 1.993360460721271, 1.9926869847978463]  ...  [0.33944241457710167, 0.339361454134837, 0.3392805213671533, 0.3391996162612564, 0.3391187388043588, 0.3390378889836809, 0.33895706678644977, 0.33887627219990013, 0.3387955052112736, 0.3387147658078196]\n"
          ],
          "name": "stdout"
        }
      ]
    },
    {
      "cell_type": "code",
      "metadata": {
        "id": "Qtg61t7z7MiF",
        "colab_type": "code",
        "outputId": "75f2a5e0-e044-4360-fc7d-b4ea421506ed",
        "colab": {
          "base_uri": "https://localhost:8080/",
          "height": 279
        }
      },
      "source": [
        "import matplotlib.pyplot as plt\n",
        "plt.plot(result)\n",
        "plt.ylabel('Values of Rosenblock function')\n",
        "plt.xlabel('Number of iterations')\n",
        "plt.show()"
      ],
      "execution_count": 0,
      "outputs": [
        {
          "output_type": "display_data",
          "data": {
            "image/png": "[encoded data removed]",
            "text/plain": [
              "<Figure size 432x288 with 1 Axes>"
            ]
          },
          "metadata": {
            "tags": []
          }
        }
      ]
    },
    {
      "cell_type": "markdown",
      "metadata": {
        "id": "JgkotTqY4wrT",
        "colab_type": "text"
      },
      "source": [
        "After 5893 iterations, the gradien descent function finally converges. The Rosenbrock function reaches a local minimum of around 0.3387147658078196, in the region [0.7063967  0.49834155 0.24550212] +- tolerance of 1.0x10E-4.  "
      ]
    },
    {
      "cell_type": "markdown",
      "metadata": {
        "id": "EQrr5R4liRPo",
        "colab_type": "text"
      },
      "source": [
        "**With a learning rate of 1.0x10E-3:**"
      ]
    },
    {
      "cell_type": "code",
      "metadata": {
        "id": "zO-EHQsIiJK4",
        "colab_type": "code",
        "outputId": "6507eb4b-1d43-43c1-8dd6-1425876f942d",
        "colab": {
          "base_uri": "https://localhost:8080/",
          "height": 122
        }
      },
      "source": [
        "x_initial = np.array([0.0,0.0,0.0])\n",
        "lr = 1.0*10**(-3)\n",
        "tolerance_thres = 1.0*10**(-4)\n",
        "maximum_iterations = 20000\n",
        "result, final_x  = gradient_descent(x_initial, lr, tolerance_thres, maximum_iterations)\n",
        "\n",
        "print(\"learning rate : \", lr)\n",
        "print(\"number of iterations: \", len(result))\n",
        "print(\"local minimum value reached: \", result[len(result)-1])\n",
        "print(\"last position:\", final_x)\n",
        "print(\"first and last 10 values of Rosenbrock function for each iteration: \", result[:10], \" ... \", result[-10:])"
      ],
      "execution_count": 0,
      "outputs": [
        {
          "output_type": "stream",
          "text": [
            "learning rate :  0.001\n",
            "number of iterations:  2491\n",
            "local minimum value reached:  0.019028769821432884\n",
            "last position: [0.93688769 0.87752322 0.76941846]\n",
            "first and last 10 values of Rosenbrock function for each iteration:  [1.9924064032, 1.9861223695947279, 1.9806623562064116, 1.9757180834747496, 1.9710939524398396, 1.9666659783729865, 1.9623556725358053, 1.9581134326350536, 1.9539079832382547, 1.949719665293816]  ...  [0.01923113745503576, 0.019208534759618007, 0.01918596151707724, 0.01916341768350807, 0.01914090321508177, 0.019118418068046077, 0.019095962198725093, 0.01907353556351907, 0.01905113811890429, 0.019028769821432884]\n"
          ],
          "name": "stdout"
        }
      ]
    },
    {
      "cell_type": "code",
      "metadata": {
        "id": "8qGXUVbT7aJI",
        "colab_type": "code",
        "outputId": "f5aa8bf1-b7eb-4c5e-dad2-2ec5ae9c5d13",
        "colab": {
          "base_uri": "https://localhost:8080/",
          "height": 279
        }
      },
      "source": [
        "import matplotlib.pyplot as plt\n",
        "plt.plot(result)\n",
        "plt.ylabel('Values of Rosenblock function')\n",
        "plt.xlabel('Number of iterations')\n",
        "plt.show()"
      ],
      "execution_count": 0,
      "outputs": [
        {
          "output_type": "display_data",
          "data": {
            "image/png": "[encoded data removed]",
            "text/plain": [
              "<Figure size 432x288 with 1 Axes>"
            ]
          },
          "metadata": {
            "tags": []
          }
        }
      ]
    },
    {
      "cell_type": "markdown",
      "metadata": {
        "id": "Tz5a_Oq-7e7Y",
        "colab_type": "text"
      },
      "source": [
        "After 2491 iterations, the gradien descent function finally converges. The Rosenbrock function reaches another local minimum of 0.01992876. The higher learning rate of 1.0x10E-3 allowed the gradient descent to jump above the previous local minimum and reach an even lower minimum for the Rosenbrock function. The local minimum is centered around the point [0.93688769 0.87752322 0.76941846] +- tolerance of 1.0x10E-4.\n",
        "\n",
        "\n",
        "Below we try various learning rate values and see if we can reach an even lower local minimum for the Rosenbrock function."
      ]
    },
    {
      "cell_type": "markdown",
      "metadata": {
        "id": "GJmHNktakS6y",
        "colab_type": "text"
      },
      "source": [
        "**With a learning rate of 1.5x10E-3:**"
      ]
    },
    {
      "cell_type": "code",
      "metadata": {
        "id": "aid3vzutkahd",
        "colab_type": "code",
        "outputId": "2dc59f19-09b4-4841-de2d-a70da1c27c34",
        "colab": {
          "base_uri": "https://localhost:8080/",
          "height": 122
        }
      },
      "source": [
        "x_initial = np.array([0.0,0.0,0.0])\n",
        "lr = 1.5*10**(-3)\n",
        "tolerance_thres = 1.0*10**(-4)\n",
        "maximum_iterations = 20000\n",
        "result, final_x  = gradient_descent(x_initial, lr, tolerance_thres, maximum_iterations)\n",
        "\n",
        "print(\"learning rate : \", lr)\n",
        "print(\"number of iterations: \", len(result))\n",
        "print(\"local minimum value reached: \", result[len(result)-1])\n",
        "print(\"last position:\", final_x)\n",
        "print(\"first and last 10 values of Rosenbrock function for each iteration: \", result[:10], \" ... \", result[-10:])"
      ],
      "execution_count": 0,
      "outputs": [
        {
          "output_type": "stream",
          "text": [
            "learning rate :  0.0015\n",
            "number of iterations:  2051\n",
            "local minimum value reached:  0.00976932823562366\n",
            "last position: [0.95511126 0.91206862 0.83142703]\n",
            "first and last 10 values of Rosenbrock function for each iteration:  [1.9889126162, 1.9804398814932611, 1.9732080239087, 1.966553276952073, 1.960155726340263, 1.9538617907284832, 1.9475981978343688, 1.941330345407844, 1.9350421794801245, 1.9287264932785537]  ...  [0.009916285435630029, 0.00989983989526623, 0.009883423730479204, 0.009867036883247278, 0.009850679295678675, 0.009834350910011167, 0.009818051668611787, 0.009801781513976395, 0.00978554038872946, 0.00976932823562366]\n"
          ],
          "name": "stdout"
        }
      ]
    },
    {
      "cell_type": "markdown",
      "metadata": {
        "id": "scd5PLcklIuT",
        "colab_type": "text"
      },
      "source": [
        "**With a learning rate of 1.6x10E-3:**"
      ]
    },
    {
      "cell_type": "code",
      "metadata": {
        "id": "rcDMxp5slJRF",
        "colab_type": "code",
        "outputId": "ef53d08c-54fb-4675-b74d-ae6cca3a2b0c",
        "colab": {
          "base_uri": "https://localhost:8080/",
          "height": 122
        }
      },
      "source": [
        "x_initial = np.array([0.0,0.0,0.0])\n",
        "lr = 1.6*10**(-3)\n",
        "tolerance_thres = 1.0*10**(-4)\n",
        "maximum_iterations = 20000\n",
        "result, final_x  = gradient_descent(x_initial, lr, tolerance_thres, maximum_iterations)\n",
        "\n",
        "print(\"learning rate : \", lr)\n",
        "print(\"number of iterations: \", len(result))\n",
        "print(\"local minimum value reached: \", result[len(result)-1])\n",
        "print(\"last position:\", final_x)\n",
        "print(\"first and last 10 values of Rosenbrock function for each iteration: \", result[:10], \" ... \", result[-10:])"
      ],
      "execution_count": 0,
      "outputs": [
        {
          "output_type": "stream",
          "text": [
            "learning rate :  0.0016\n",
            "number of iterations:  1985\n",
            "local minimum value reached:  0.008754367771180032\n",
            "last position: [0.95754875 0.91673972 0.83999424]\n",
            "first and last 10 values of Rosenbrock function for each iteration:  [1.9882379473715202, 1.9793780556988985, 1.9718128538639181, 1.964810491173659, 1.9580388061176661, 1.9513478069643457, 1.9446703296314758, 1.9379767355195314, 1.9312542979299716, 1.924497852358619]  ...  [0.008893757248145506, 0.008878152599675369, 0.00886257732488644, 0.008847031362932066, 0.008831514653107688, 0.00881602713485057, 0.008800568747739332, 0.008785139431493609, 0.008769739125973678, 0.008754367771180032]\n"
          ],
          "name": "stdout"
        }
      ]
    },
    {
      "cell_type": "markdown",
      "metadata": {
        "id": "WLtNfGC6maQX",
        "colab_type": "text"
      },
      "source": [
        "**With a learning rate of 1.645x10E-3:**"
      ]
    },
    {
      "cell_type": "code",
      "metadata": {
        "id": "GUh_0U_VmLDE",
        "colab_type": "code",
        "outputId": "6755c753-c56f-4c5f-fc26-01b331f2f68a",
        "colab": {
          "base_uri": "https://localhost:8080/",
          "height": 122
        }
      },
      "source": [
        "x_initial = np.array([0.0,0.0,0.0])\n",
        "lr = 1.645*10**(-3)\n",
        "tolerance_thres = 1.0*10**(-4)\n",
        "maximum_iterations = 20000\n",
        "result, final_x  = gradient_descent(x_initial, lr, tolerance_thres, maximum_iterations)\n",
        "\n",
        "print(\"learning rate : \", lr)\n",
        "print(\"number of iterations: \", len(result))\n",
        "print(\"local minimum value reached: \", result[len(result)-1])\n",
        "print(\"last position:\", final_x)\n",
        "print(\"first and last 10 values of Rosenbrock function for each iteration: \", result[:10], \" ... \", result[-10:])"
      ],
      "execution_count": 0,
      "outputs": [
        {
          "output_type": "stream",
          "text": [
            "learning rate :  0.001645\n",
            "number of iterations:  1957\n",
            "local minimum value reached:  0.008348850272054469\n",
            "last position: [0.95855993 0.91868297 0.84356932]\n",
            "first and last 10 values of Rosenbrock function for each iteration:  [1.987936959374428, 1.9789073469729184, 1.971192925518051, 1.9640325195774073, 1.9570900860097118, 1.950218111100496, 1.9433524600297751, 1.9364657248386346, 1.929546577716415, 1.9225906671227695]  ...  [0.008485086349529472, 0.008469832054271965, 0.008454607136793852, 0.0084394115389571, 0.008424245197099197, 0.008409108054480623, 0.008394000047767459, 0.00837892112198673, 0.00836387121431342, 0.008348850272054469]\n"
          ],
          "name": "stdout"
        }
      ]
    },
    {
      "cell_type": "code",
      "metadata": {
        "id": "Sk3FYfL07h--",
        "colab_type": "code",
        "outputId": "f06de145-22ac-4f00-9289-e7f6ce8a3c3d",
        "colab": {
          "base_uri": "https://localhost:8080/",
          "height": 279
        }
      },
      "source": [
        "import matplotlib.pyplot as plt\n",
        "plt.plot(result)\n",
        "plt.ylabel('Values of Rosenblock function')\n",
        "plt.xlabel('Number of iterations')\n",
        "plt.show()"
      ],
      "execution_count": 0,
      "outputs": [
        {
          "output_type": "display_data",
          "data": {
            "image/png": "[encoded data removed]",
            "text/plain": [
              "<Figure size 432x288 with 1 Axes>"
            ]
          },
          "metadata": {
            "tags": []
          }
        }
      ]
    },
    {
      "cell_type": "markdown",
      "metadata": {
        "id": "Ov2fwrV3lMGr",
        "colab_type": "text"
      },
      "source": [
        "**With a learning rate of 1.7x10E-3:**"
      ]
    },
    {
      "cell_type": "code",
      "metadata": {
        "id": "Em14gqJ8lM9-",
        "colab_type": "code",
        "outputId": "ee8d1c5b-7572-42be-fb7e-258be6ef72da",
        "colab": {
          "base_uri": "https://localhost:8080/",
          "height": 122
        }
      },
      "source": [
        "x_initial = np.array([0.0,0.0,0.0])\n",
        "lr = 1.7*10**(-3)\n",
        "tolerance_thres = 1.0*10**(-4)\n",
        "maximum_iterations = 20000\n",
        "result, final_x  = gradient_descent(x_initial, lr, tolerance_thres, maximum_iterations)\n",
        "\n",
        "print(\"learning rate : \", lr)\n",
        "print(\"number of iterations: \", len(result))\n",
        "print(\"local minimum value reached: \", result[len(result)-1])\n",
        "print(\"last position:\", final_x)\n",
        "print(\"first and last 10 values of Rosenbrock function for each iteration: \", result[:10], \" ... \", result[-10:])"
      ],
      "execution_count": 0,
      "outputs": [
        {
          "output_type": "stream",
          "text": [
            "learning rate :  0.0017\n",
            "number of iterations:  20001\n",
            "local minimum value reached:  0.33885913249698146\n",
            "last position: [0.90922646 0.86917543 0.71899313]\n",
            "first and last 10 values of Rosenbrock function for each iteration:  [1.98757128592672, 1.9783377822589787, 1.9704413342507974, 1.963086259546989, 1.955933151696729, 1.9488381759709303, 1.9417410654405967, 1.9346170952211512, 1.9274565492313331, 1.9202559798852201]  ...  [0.3421076172664559, 0.33885913249698146, 0.3421076172664559, 0.33885913249698146, 0.3421076172664559, 0.33885913249698146, 0.3421076172664559, 0.33885913249698146, 0.3421076172664559, 0.33885913249698146]\n"
          ],
          "name": "stdout"
        }
      ]
    },
    {
      "cell_type": "code",
      "metadata": {
        "id": "KH4xbN2p7p0W",
        "colab_type": "code",
        "outputId": "23b3dbde-3c0d-446c-fe4a-21da08dfcd91",
        "colab": {
          "base_uri": "https://localhost:8080/",
          "height": 279
        }
      },
      "source": [
        "import matplotlib.pyplot as plt\n",
        "plt.plot(result)\n",
        "plt.ylabel('Values of Rosenblock function')\n",
        "plt.xlabel('Number of iterations')\n",
        "plt.show()"
      ],
      "execution_count": 0,
      "outputs": [
        {
          "output_type": "display_data",
          "data": {
            "image/png": "[encoded data removed]",
            "text/plain": [
              "<Figure size 432x288 with 1 Axes>"
            ]
          },
          "metadata": {
            "tags": []
          }
        }
      ]
    },
    {
      "cell_type": "markdown",
      "metadata": {
        "id": "vqN839dy2n2X",
        "colab_type": "text"
      },
      "source": [
        "With a learning rate of 1.7x10E-7, the Rosenbrock function keeps jumping between the values 0.338859132 and 0.34210761. The learning rate at this point is too high, the gradient of the Rosenbrock function can't get any lower in absolute value in this region, the distance between two consecutive points stays stable and doesn't diminish below the tolerance threshold. For this reason, we reach the limit of 20,000 iterations without converging to a local minimum. We should also mention the big jump in the Rosenbrock values after 2000 iterations and 4000 as seen on the graph above. The high learning rate value made the gradient descent jump outside of the region of the local mimimum before getting back after 2500 iterations from the first big spike (value above 10 on the graph) in value."
      ]
    },
    {
      "cell_type": "markdown",
      "metadata": {
        "id": "R9uiuetrme8F",
        "colab_type": "text"
      },
      "source": [
        "**Conclusion:**\n",
        "\n",
        "With trial and error, we see that the best learning rate is 1.645x10E-3. We minimize the value of the Rosenbrock function down to 0.008347943212778496 after 1956 iterations, and starting at the origin [0,0,0]. The Rosenbrock function shows us that we need to try various learning rates before reaching a local minimum that is the lowest among the local minimums."
      ]
    },
    {
      "cell_type": "markdown",
      "metadata": {
        "id": "DoHID49LnNYv",
        "colab_type": "text"
      },
      "source": [
        "# **Using Tensorflow**"
      ]
    },
    {
      "cell_type": "markdown",
      "metadata": {
        "id": "lkqHDyBBP4XO",
        "colab_type": "text"
      },
      "source": [
        "**We start with a learning rate of 1.0x10E-3**"
      ]
    },
    {
      "cell_type": "code",
      "metadata": {
        "id": "j-vUo_6ZxQTS",
        "colab_type": "code",
        "outputId": "fea0701c-22b8-47a8-e42e-e02da62fcb7a",
        "colab": {
          "base_uri": "https://localhost:8080/",
          "height": 122
        }
      },
      "source": [
        "import numpy as np\n",
        "import tensorflow as tf\n",
        "\n",
        "max_num_iterations = 20000\n",
        "tolerance_thres = 1.0*10**(-4)\n",
        "lr = 1.0*10**(-4)\n",
        "\n",
        "#starting point\n",
        "x1 = tf.Variable(0.0, trainable=True)\n",
        "x2 = tf.Variable(0.0 , trainable=True)\n",
        "x3 = tf.Variable(0.0 , trainable=True)\n",
        "\n",
        "def euclidean_norm(x):\n",
        "  return (x[0]**2 + x[1]**2 + x[2]**2 )**(0.5)\n",
        "\n",
        "def convergence_test (x_new, x_old):\n",
        "  x = x_new - x_old\n",
        "  euc_norm_x = euclidean_norm(x)\n",
        "  euc_norm_x_old = euclidean_norm(x_old)\n",
        "\n",
        "  if euc_norm_x_old > 0:\n",
        "    return euc_norm_x / euc_norm_x_old\n",
        "  else:\n",
        "    return \"error\"\n",
        "\n",
        "def rosenbrock(x):\n",
        "  x1 = x[0]\n",
        "  x2 = x[1]\n",
        "  x3 = x[2]\n",
        "  return 100*(x2-x1**2)**2+(1-x1)**2 + 100*(x3-x2**2)**2+(1-x2)**2\n",
        "\n",
        "def step():\n",
        "  with tf.GradientTape(persistent=True) as tape:\n",
        "    tape.watch(x1)\n",
        "    tape.watch(x2)\n",
        "    tape.watch(x3)\n",
        "    y = 100*(x2-x1**2)**2+(1-x1)**2 + 100*(x3-x2**2)**2+(1-x2)**2\n",
        "  \n",
        "  #we calculate the gradient of the Rosenbrock function\n",
        "  x1_grad = tape.gradient(y, x1).numpy()\n",
        "  x2_grad = tape.gradient(y, x2).numpy()\n",
        "  x3_grad = tape.gradient(y, x3).numpy()\n",
        "\n",
        "  #we update the variables\n",
        "  x1.assign_sub(x1_grad * lr)\n",
        "  x2.assign_sub(x2_grad * lr)\n",
        "  x3.assign_sub(x3_grad * lr)\n",
        "\n",
        "rosenbrock_values = []\n",
        "n = 0\n",
        "\n",
        "#we update the variables initially so that we don't start with the null vector\n",
        "step()\n",
        "x = np.array( [x1.numpy(), x2.numpy(), x3.numpy()] )\n",
        "rosenbrock_values.append(rosenbrock(x))\n",
        "\n",
        "while n < max_num_iterations:\n",
        "  x_prev = np.array( [x1.numpy(), x2.numpy(), x3.numpy()] )\n",
        "  step()\n",
        "  x = np.array( [x1.numpy(), x2.numpy(), x3.numpy()] )\n",
        "  rosenbrock_values.append(rosenbrock(x))\n",
        "  tol = convergence_test (x, x_prev)\n",
        "  n = n + 1\n",
        "  if tol < tolerance_thres :\n",
        "    break\n",
        "\n",
        "print(\"learning rate : \", lr)\n",
        "print(\"number of iterations: \", len(rosenbrock_values))\n",
        "print(\"local minimum value reached: \", rosenbrock_values[len(rosenbrock_values)-1])\n",
        "print(\"last position:\", x)\n",
        "print(\"first and last 10 values of Rosenbrock function for each iteration: \", rosenbrock_values[:10], \" ... \", rosenbrock_values[-10:])"
      ],
      "execution_count": 0,
      "outputs": [
        {
          "output_type": "stream",
          "text": [
            "learning rate :  0.0001\n",
            "number of iterations:  5893\n",
            "local minimum value reached:  0.3387153160218814\n",
            "last position: [0.7063964  0.49834117 0.24550174]\n",
            "first and last 10 values of Rosenbrock function for each iteration:  [1.9992040784203238, 1.9984241377541572, 1.9976595265997286, 1.9969096193538025, 1.996173815850419, 1.9954515400565542, 1.9947422392017264, 1.9940453824494806, 1.993360460573659, 1.9926869847566875]  ...  [0.3394429322613658, 0.33936198712137633, 0.33928106428916105, 0.33920015528661535, 0.33911927704954176, 0.33903842110684634, 0.3389576029744561, 0.33887681557350985, 0.33879605044088557, 0.3387153160218814]\n"
          ],
          "name": "stdout"
        }
      ]
    },
    {
      "cell_type": "markdown",
      "metadata": {
        "id": "lthVK1bj3vf-",
        "colab_type": "text"
      },
      "source": [
        "**We do the exact same thing we did above, with a learning rate of 1.0x10E-3**"
      ]
    },
    {
      "cell_type": "code",
      "metadata": {
        "id": "WxMCcnCz33kv",
        "colab_type": "code",
        "outputId": "ade271d9-d542-4ba2-c2dc-47cdaba1b3cd",
        "colab": {
          "base_uri": "https://localhost:8080/",
          "height": 122
        }
      },
      "source": [
        "lr = 1.0*10**(-3)\n",
        "#starting point\n",
        "x1 = tf.Variable(0.0, trainable=True)\n",
        "x2 = tf.Variable(0.0 , trainable=True)\n",
        "x3 = tf.Variable(0.0 , trainable=True)\n",
        "\n",
        "rosenbrock_values = []\n",
        "n = 0\n",
        "\n",
        "#updating the variables once so that we don't start at the origin\n",
        "step()\n",
        "x = np.array( [x1.numpy(), x2.numpy(), x3.numpy()] )\n",
        "rosenbrock_values.append(rosenbrock(x))\n",
        "\n",
        "while n < max_num_iterations:\n",
        "  x_prev = np.array( [x1.numpy(), x2.numpy(), x3.numpy()] )\n",
        "  step()\n",
        "  x = np.array( [x1.numpy(), x2.numpy(), x3.numpy()] )\n",
        "  rosenbrock_values.append(rosenbrock(x))\n",
        "  tol = convergence_test (x, x_prev)\n",
        "  n = n + 1\n",
        "  if tol < tolerance_thres :\n",
        "    break\n",
        "\n",
        "print(\"learning rate : \", lr)\n",
        "print(\"number of iterations: \", len(rosenbrock_values))\n",
        "print(\"local minimum value reached: \", rosenbrock_values[len(rosenbrock_values)-1])\n",
        "print(\"last position:\", x)\n",
        "print(\"first and last 10 values of Rosenbrock function for each iteration: \", rosenbrock_values[:10], \" ... \", rosenbrock_values[-10:])"
      ],
      "execution_count": 0,
      "outputs": [
        {
          "output_type": "stream",
          "text": [
            "learning rate :  0.001\n",
            "number of iterations:  2491\n",
            "local minimum value reached:  0.01902871111779364\n",
            "last position: [0.9368878 0.8775234 0.7694188]\n",
            "first and last 10 values of Rosenbrock function for each iteration:  [1.992406402858551, 1.9861223689625118, 1.9806623555592853, 1.97571808318245, 1.971093952762197, 1.9666659783394154, 1.9623556726334834, 1.9581134309429822, 1.9539079797599965, 1.9497196604504599]  ...  [0.019231085807660014, 0.019208481240385444, 0.01918590749070726, 0.01916336577266993, 0.019140850530687314, 0.019118369250178558, 0.019095912391867587, 0.019073486186770714, 0.0190510843507219, 0.01902871111779364]\n"
          ],
          "name": "stdout"
        }
      ]
    },
    {
      "cell_type": "markdown",
      "metadata": {
        "id": "7sRVOuTA9CYL",
        "colab_type": "text"
      },
      "source": [
        "**Conclusion:**\n",
        "\n",
        "We get the exact same number of iterations using Tensorflow as calculating the gradien manually, for both learning rates ( 1.0x10E-4 and 1.0x10E-3 ). However, the precision in terms of values of the Rosenbrock function at each iteration is different in the order of 10E-8, which is negligeable."
      ]
    }
  ]
}