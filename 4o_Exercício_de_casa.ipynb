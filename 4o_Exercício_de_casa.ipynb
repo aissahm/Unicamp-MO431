{
  "nbformat": 4,
  "nbformat_minor": 0,
  "metadata": {
    "colab": {
      "name": "4o Exercício de casa.ipynb",
      "provenance": [],
      "collapsed_sections": [
        "5peJOBn39s2q",
        "DxBiI1CuTged",
        "IjJ6-VhRaefh",
        "VqIUrJQ9zjpM",
        "_IXbvKki2ga_",
        "0f25IJ23Kt02",
        "7XKJjLIKRHeK"
      ],
      "authorship_tag": "ABX9TyNEbY04qKqNHnevg0sXxciB",
      "include_colab_link": true
    },
    "kernelspec": {
      "name": "python3",
      "display_name": "Python 3"
    }
  },
  "cells": [
    {
      "cell_type": "markdown",
      "metadata": {
        "id": "view-in-github",
        "colab_type": "text"
      },
      "source": [
        "<a href=\"https://colab.research.google.com/github/aissahm/Unicamp-MO431/blob/master/4o_Exerc%C3%ADcio_de_casa.ipynb\" target=\"_parent\"><img src=\"https://colab.research.google.com/assets/colab-badge.svg\" alt=\"Open In Colab\"/></a>"
      ]
    },
    {
      "cell_type": "markdown",
      "metadata": {
        "id": "vaq9zob57OoF",
        "colab_type": "text"
      },
      "source": [
        "Aissa Hadj Mohamed - RA 265189\n",
        "\n",
        "# **4o Exercício de casa**\n",
        "\n",
        "**Objective:**\n",
        "\n",
        "Search for the best combinations of hyperparameters for the SVM for regression in a particular database.\n",
        "\n",
        "First, we install the following library to measure the time of execution for each method selected in this exercise.\n"
      ]
    },
    {
      "cell_type": "code",
      "metadata": {
        "id": "KopjCd93wAqb",
        "colab_type": "code",
        "outputId": "2079f3fe-981a-4c28-dc27-49b22d9ea099",
        "colab": {
          "base_uri": "https://localhost:8080/",
          "height": 190
        }
      },
      "source": [
        "!pip install ipython-autotime\n",
        "\n",
        "%load_ext autotime"
      ],
      "execution_count": 1,
      "outputs": [
        {
          "output_type": "stream",
          "text": [
            "Collecting ipython-autotime\n",
            "  Downloading https://files.pythonhosted.org/packages/e6/f9/0626bbdb322e3a078d968e87e3b01341e7890544de891d0cb613641220e6/ipython-autotime-0.1.tar.bz2\n",
            "Building wheels for collected packages: ipython-autotime\n",
            "  Building wheel for ipython-autotime (setup.py) ... \u001b[?25l\u001b[?25hdone\n",
            "  Created wheel for ipython-autotime: filename=ipython_autotime-0.1-cp36-none-any.whl size=1832 sha256=8d0954a607831e15999928316cab170d10c0c32bd0d9b5becfc74112bfd735d3\n",
            "  Stored in directory: /root/.cache/pip/wheels/d2/df/81/2db1e54bc91002cec40334629bc39cfa86dff540b304ebcd6e\n",
            "Successfully built ipython-autotime\n",
            "Installing collected packages: ipython-autotime\n",
            "Successfully installed ipython-autotime-0.1\n"
          ],
          "name": "stdout"
        }
      ]
    },
    {
      "cell_type": "code",
      "metadata": {
        "id": "p3zQpCt67NjT",
        "colab_type": "code",
        "outputId": "cbfae253-eabe-4931-a349-24ea74872c02",
        "colab": {
          "base_uri": "https://localhost:8080/",
          "height": 34
        }
      },
      "source": [
        "# Imports\n",
        "import numpy as np\n",
        "\n",
        "X_train = np.load(\"/content/Xtreino5.npy\")\n",
        "Y_train = np.load(\"/content/ytreino5.npy\")\n",
        "\n",
        "X_test = np.load(\"/content/Xteste5.npy\")\n",
        "Y_test = np.load(\"/content/yteste5.npy\")"
      ],
      "execution_count": 95,
      "outputs": [
        {
          "output_type": "stream",
          "text": [
            "time: 6.32 ms\n"
          ],
          "name": "stdout"
        }
      ]
    },
    {
      "cell_type": "code",
      "metadata": {
        "id": "1k10yALkCSqQ",
        "colab_type": "code",
        "outputId": "70a8d5fd-936f-44a5-ff8d-bc3d5fc6fa52",
        "colab": {
          "base_uri": "https://localhost:8080/",
          "height": 51
        }
      },
      "source": [
        "print(X_train.shape)\n",
        "print(Y_train.shape)"
      ],
      "execution_count": 0,
      "outputs": [
        {
          "output_type": "stream",
          "text": [
            "(404, 13)\n",
            "(404,)\n"
          ],
          "name": "stdout"
        }
      ]
    },
    {
      "cell_type": "markdown",
      "metadata": {
        "id": "FL3gtyFCEUI7",
        "colab_type": "text"
      },
      "source": [
        "We have training and testing data of the same size."
      ]
    },
    {
      "cell_type": "markdown",
      "metadata": {
        "id": "5LmBnRmY8kug",
        "colab_type": "text"
      },
      "source": [
        "# **SVM Regressor**\n",
        "\n",
        "We will use the SVM from scikit-learn : https://scikit-learn.org/stable/modules/generated/sklearn.svm.SVR.html\n",
        "\n",
        "We will use the \"rbf\" kernel with three parameters: C, gamma, and epsilon.\n",
        " \n",
        "With:\n",
        "\n",
        "1. C between 2^{-5} and 2^{15} (uniforme on the power element)\n",
        "2. gamma between 2^{-15} and 2^{3} (uniforme on the power element)\n",
        "3. epsilon entre 0.05 a 1.0 (uniforme on the power element)\n",
        "\n",
        "**Measure for the error**\n",
        "\n",
        "We will train the SVM on training data, with the combination of the parameters, and then measure the Mean Absolute Error (MAE)."
      ]
    },
    {
      "cell_type": "markdown",
      "metadata": {
        "id": "5peJOBn39s2q",
        "colab_type": "text"
      },
      "source": [
        "# **Random search**\n",
        "\n",
        "We first perform a search of the best parameters calibrations using Random Search from Sklearn, with 125 iterations.\n",
        "\n",
        "Since we are supposed to validate the data on the test set, we use the library ShuffleSplit of Sklearn and set the number of split to 1. Since the model needs some validation data, we set the test size to 10% so that it can manage to train reasonably while not testing on a lot of the training data. The validation part should be performed on the test data X_test and Y_test."
      ]
    },
    {
      "cell_type": "code",
      "metadata": {
        "id": "pDb95Zz-9o4H",
        "colab_type": "code",
        "outputId": "0a27b348-5412-432e-98d6-33f35ce20ed5",
        "colab": {
          "base_uri": "https://localhost:8080/",
          "height": 68
        }
      },
      "source": [
        "from sklearn.model_selection import RandomizedSearchCV\n",
        "from scipy.stats import uniform\n",
        "from scipy.stats import loguniform\n",
        "from sklearn.metrics import mean_absolute_error\n",
        "from sklearn.svm import SVR\n",
        "from sklearn.model_selection import ShuffleSplit\n",
        "\n",
        "svr = SVR(kernel='rbf')\n",
        "\n",
        "C_range = loguniform(2**-5, 2**15) \n",
        "gamma_range = loguniform(2**-15, 2**3) \n",
        "epsilon_range = uniform(0.0, 1) \n",
        "\n",
        "cv_param = ShuffleSplit(n_splits=1, test_size = 0.1, train_size = 0.9)\n",
        "\n",
        "distributions = {\"C\": C_range, \"gamma\": gamma_range, \"epsilon\":epsilon_range}\n",
        "svr_search = RandomizedSearchCV(svr, param_distributions = distributions, cv=cv_param, scoring=\"neg_mean_absolute_error\", n_iter=125)\n",
        "search = svr_search.fit(X_train, Y_train)\n",
        "search.best_params_"
      ],
      "execution_count": 191,
      "outputs": [
        {
          "output_type": "execute_result",
          "data": {
            "text/plain": [
              "{'C': 7298.140587201118,\n",
              " 'epsilon': 0.7337333214165747,\n",
              " 'gamma': 5.040316708906656e-05}"
            ]
          },
          "metadata": {
            "tags": []
          },
          "execution_count": 191
        },
        {
          "output_type": "stream",
          "text": [
            "time: 10.6 s\n"
          ],
          "name": "stdout"
        }
      ]
    },
    {
      "cell_type": "code",
      "metadata": {
        "id": "e_BLceLOhxmD",
        "colab_type": "code",
        "outputId": "c6e238c8-513d-4843-a8d2-d4abae53f5aa",
        "colab": {
          "base_uri": "https://localhost:8080/",
          "height": 51
        }
      },
      "source": [
        "from sklearn.metrics import mean_absolute_error\n",
        "svr = SVR(kernel='rbf', C=search.best_params_[\"C\"], epsilon=search.best_params_[\"epsilon\"], gamma=search.best_params_[\"gamma\"])\n",
        "svr.fit(X_train, Y_train)\n",
        "Y_pred = svr.predict(X_test)\n",
        "print(\"Lowest MAE value :\", mean_absolute_error(Y_test, Y_pred))"
      ],
      "execution_count": 192,
      "outputs": [
        {
          "output_type": "stream",
          "text": [
            "Lowest MAE value : 2.5118252978845987\n",
            "time: 932 ms\n"
          ],
          "name": "stdout"
        }
      ]
    },
    {
      "cell_type": "markdown",
      "metadata": {
        "id": "3qDthNolQE5Y",
        "colab_type": "text"
      },
      "source": [
        "The best tuning for the hyperparameters is the following:\n",
        "\n",
        "1. C : 7298.140587201118\n",
        "2. gamma : 5.040316708906656e-05\n",
        "3. epsilon : 0.7337333214165747\n",
        "\n",
        "This combination minimizes the MAE to 2.5118252978845987.\n",
        "\n",
        "The execution time was 10.6s.\n"
      ]
    },
    {
      "cell_type": "markdown",
      "metadata": {
        "id": "DxBiI1CuTged",
        "colab_type": "text"
      },
      "source": [
        "# **Grid Search**\n",
        "\n",
        "For the grid search, we generate randomly 5 values for each of C, gamma and epsilon, while respecting the distribution of each parameter as specified previously.\n",
        "\n",
        "Since we are supposed to validate the data on the test set, we use the library ShuffleSplit of Sklearn and set the number of split to 1. Since the model needs some validation data, we set the test size to 10% so that it can manage to train reasonably while not testing on a lot of the training data. The validation part should be performed on the test data X_test and Y_test."
      ]
    },
    {
      "cell_type": "code",
      "metadata": {
        "id": "rJJS8dcmXSxJ",
        "colab_type": "code",
        "outputId": "a4abc5e4-6811-4a9e-e562-3c1da7fb24ae",
        "colab": {
          "base_uri": "https://localhost:8080/",
          "height": 255
        }
      },
      "source": [
        "from sklearn.model_selection import GridSearchCV\n",
        "from scipy.stats import uniform\n",
        "from scipy.stats import loguniform\n",
        "from sklearn.metrics import mean_absolute_error\n",
        "from sklearn.svm import SVR\n",
        "\n",
        "C_range = loguniform.rvs(2**-5, 2**15, size = 5) \n",
        "gamma_range = loguniform.rvs(2**-15, 2**3, size = 5) \n",
        "epsilon_range = uniform.rvs(0.0, 1, size = 5)\n",
        "\n",
        "cv_param = ShuffleSplit(n_splits=1, test_size = 0.1, train_size = 0.9)\n",
        "\n",
        "param_grid = {\"C\": C_range, \"gamma\": gamma_range, \"epsilon\":epsilon_range}\n",
        "\n",
        "svr = SVR(kernel='rbf')\n",
        "grid = GridSearchCV(svr, param_grid=param_grid, cv=cv_param, scoring=\"neg_mean_absolute_error\")\n",
        "grid.fit(X_train, Y_train)"
      ],
      "execution_count": 193,
      "outputs": [
        {
          "output_type": "execute_result",
          "data": {
            "text/plain": [
              "GridSearchCV(cv=ShuffleSplit(n_splits=1, random_state=None, test_size=0.1, train_size=0.9),\n",
              "             error_score=nan,\n",
              "             estimator=SVR(C=1.0, cache_size=200, coef0=0.0, degree=3,\n",
              "                           epsilon=0.1, gamma='scale', kernel='rbf',\n",
              "                           max_iter=-1, shrinking=True, tol=0.001,\n",
              "                           verbose=False),\n",
              "             iid='deprecated', n_jobs=None,\n",
              "             param_grid={'C': array([2.55698021e+00, 3.07100803e-01, 4.84514114e-02, 2.52605640e+02,\n",
              "       2.21560036e+04]),\n",
              "                         'epsilon': array([0.889845  , 0.21417028, 0.94975684, 0.24195105, 0.80097225]),\n",
              "                         'gamma': array([3.34925235e-05, 4.09480770e+00, 3.91294686e-05, 4.55830441e-04,\n",
              "       2.21201652e-03])},\n",
              "             pre_dispatch='2*n_jobs', refit=True, return_train_score=False,\n",
              "             scoring='neg_mean_absolute_error', verbose=0)"
            ]
          },
          "metadata": {
            "tags": []
          },
          "execution_count": 193
        },
        {
          "output_type": "stream",
          "text": [
            "time: 31.2 s\n"
          ],
          "name": "stdout"
        }
      ]
    },
    {
      "cell_type": "code",
      "metadata": {
        "id": "w6tQrmTggcuV",
        "colab_type": "code",
        "outputId": "9fe7cdf7-edb9-4374-b389-d6eddff4f2bc",
        "colab": {
          "base_uri": "https://localhost:8080/",
          "height": 119
        }
      },
      "source": [
        "from sklearn.metrics import mean_absolute_error\n",
        "\n",
        "best = grid.best_params_\n",
        "svr = SVR(kernel='rbf', C=best[\"C\"], epsilon=best[\"epsilon\"], gamma=best[\"gamma\"])\n",
        "svr.fit(X_train, Y_train)\n",
        "Y_pred = svr.predict(X_test)\n",
        "\n",
        "print(\"Best parameters\")\n",
        "print(\"C :\" , best[\"C\"])\n",
        "print(\"gamma :\" , best[\"gamma\"])\n",
        "print(\"epsilon :\" , best[\"epsilon\"])\n",
        "print(\"Lowest MAE value :\", mean_absolute_error(Y_test, Y_pred))"
      ],
      "execution_count": 194,
      "outputs": [
        {
          "output_type": "stream",
          "text": [
            "Best parameters\n",
            "C : 22156.00357969096\n",
            "gamma : 3.349252345653448e-05\n",
            "epsilon : 0.9497568449541225\n",
            "Lowest MAE value : 2.54618238214308\n",
            "time: 1.71 s\n"
          ],
          "name": "stdout"
        }
      ]
    },
    {
      "cell_type": "markdown",
      "metadata": {
        "id": "eZpLP0VMPCNa",
        "colab_type": "text"
      },
      "source": [
        "The best tuning for the hyperparameters is the following: \n",
        "\n",
        "1. C : 22156.00357969096  , \n",
        "2. gamma : 3.349252345653448e-05 , \n",
        "3. epsilon : 0.9497568449541225. \n",
        "\n",
        "This combination minimizes the MAE to 2.54618238214308.\n",
        "\n",
        "The execution time was 31.2s."
      ]
    },
    {
      "cell_type": "markdown",
      "metadata": {
        "id": "IjJ6-VhRaefh",
        "colab_type": "text"
      },
      "source": [
        "# **Bayesian Optimization**\n",
        "\n",
        "We use the library from: https://github.com/hyperopt/hyperopt"
      ]
    },
    {
      "cell_type": "code",
      "metadata": {
        "id": "NH9OjBHIahN-",
        "colab_type": "code",
        "outputId": "bb14fe60-b322-4f12-f0b5-2fcbf1c613fb",
        "colab": {
          "base_uri": "https://localhost:8080/",
          "height": 207
        }
      },
      "source": [
        "!pip install hyperopt"
      ],
      "execution_count": 160,
      "outputs": [
        {
          "output_type": "stream",
          "text": [
            "Requirement already satisfied: hyperopt in /usr/local/lib/python3.6/dist-packages (0.1.2)\n",
            "Requirement already satisfied: networkx in /usr/local/lib/python3.6/dist-packages (from hyperopt) (2.4)\n",
            "Requirement already satisfied: pymongo in /usr/local/lib/python3.6/dist-packages (from hyperopt) (3.10.1)\n",
            "Requirement already satisfied: future in /usr/local/lib/python3.6/dist-packages (from hyperopt) (0.16.0)\n",
            "Requirement already satisfied: numpy in /usr/local/lib/python3.6/dist-packages (from hyperopt) (1.18.4)\n",
            "Requirement already satisfied: six in /usr/local/lib/python3.6/dist-packages (from hyperopt) (1.12.0)\n",
            "Requirement already satisfied: scipy in /usr/local/lib/python3.6/dist-packages (from hyperopt) (1.4.1)\n",
            "Requirement already satisfied: tqdm in /usr/local/lib/python3.6/dist-packages (from hyperopt) (4.41.1)\n",
            "Requirement already satisfied: decorator>=4.3.0 in /usr/local/lib/python3.6/dist-packages (from networkx->hyperopt) (4.4.2)\n",
            "time: 3.22 s\n"
          ],
          "name": "stdout"
        }
      ]
    },
    {
      "cell_type": "code",
      "metadata": {
        "id": "oKm-IGwfchri",
        "colab_type": "code",
        "outputId": "f742abba-aa49-407b-8fa4-d880e90d517d",
        "colab": {
          "base_uri": "https://localhost:8080/",
          "height": 51
        }
      },
      "source": [
        "# define an objective function\n",
        "from sklearn.metrics import mean_absolute_error\n",
        "\n",
        "def objective(params):\n",
        "    C_value = params[\"C\"] \n",
        "    gamma_value= params[\"gamma\"] \n",
        "    epsilon_value  = params[\"epsilon\"]\n",
        "    C_value = 2**C_value\n",
        "    gamma_value = 2**gamma_value\n",
        "    svr = SVR(kernel='rbf', C=C_value, epsilon = epsilon_value, gamma= gamma_value)\n",
        "    svr.fit(X_train, Y_train)\n",
        "    Y_pred = svr.predict(X_test)\n",
        "    return mean_absolute_error(Y_test, Y_pred)\n",
        "\n",
        "# define a search space\n",
        "from hyperopt import hp\n",
        "space = {\n",
        "    'C': hp.uniform('C', -5, 15),\n",
        "    'gamma': hp.uniform('gamma', -15, 3),\n",
        "    'epsilon': hp.uniform('epsilon', 0.0, 1)\n",
        "}\n",
        "\n",
        "# minimize the objective over the space\n",
        "from hyperopt import fmin, tpe, space_eval\n",
        "best = fmin(objective, space, algo=tpe.suggest, max_evals=100)"
      ],
      "execution_count": 161,
      "outputs": [
        {
          "output_type": "stream",
          "text": [
            "100%|██████████| 100/100 [01:05<00:00,  1.54it/s, best loss: 2.3166163618840496]\n",
            "time: 1min 5s\n"
          ],
          "name": "stdout"
        }
      ]
    },
    {
      "cell_type": "code",
      "metadata": {
        "id": "vqjaVsyyb16z",
        "colab_type": "code",
        "outputId": "3f2e5c2f-d1c1-412f-cad1-757790665526",
        "colab": {
          "base_uri": "https://localhost:8080/",
          "height": 51
        }
      },
      "source": [
        "print(best)"
      ],
      "execution_count": 162,
      "outputs": [
        {
          "output_type": "stream",
          "text": [
            "{'C': 13.294998156076545, 'epsilon': 0.0011616828309439185, 'gamma': -14.751723567301333}\n",
            "time: 1.95 ms\n"
          ],
          "name": "stdout"
        }
      ]
    },
    {
      "cell_type": "code",
      "metadata": {
        "id": "_1A2-2tEZrjC",
        "colab_type": "code",
        "outputId": "3cff9f48-783c-49c1-9265-cbbf9333d744",
        "colab": {
          "base_uri": "https://localhost:8080/",
          "height": 51
        }
      },
      "source": [
        "print(\"C :\",2**best[\"C\"], \" , gamma :\",  2** best[\"gamma\"], \", epsilon :\",  best[\"epsilon\"])"
      ],
      "execution_count": 163,
      "outputs": [
        {
          "output_type": "stream",
          "text": [
            "C : 10050.62888784221  , gamma : 3.6248389723366706e-05 , epsilon : 0.0011616828309439185\n",
            "time: 3.53 ms\n"
          ],
          "name": "stdout"
        }
      ]
    },
    {
      "cell_type": "code",
      "metadata": {
        "id": "hzVNoreAcjH5",
        "colab_type": "code",
        "outputId": "12789b98-8b8f-48bf-9a26-fbdd077f682f",
        "colab": {
          "base_uri": "https://localhost:8080/",
          "height": 51
        }
      },
      "source": [
        "svr = SVR(kernel='rbf', C=2**best[\"C\"], epsilon = best[\"epsilon\"], gamma=2** best[\"gamma\"])\n",
        "svr.fit(X_train, Y_train)\n",
        "Y_pred = svr.predict(X_test)\n",
        "print(mean_absolute_error(Y_test, Y_pred))"
      ],
      "execution_count": 164,
      "outputs": [
        {
          "output_type": "stream",
          "text": [
            "2.3166163618840496\n",
            "time: 850 ms\n"
          ],
          "name": "stdout"
        }
      ]
    },
    {
      "cell_type": "markdown",
      "metadata": {
        "id": "g_hF8vRDO0lu",
        "colab_type": "text"
      },
      "source": [
        "The best tuning for the hyperparameters is the following: \n",
        "1. C : 10050.62888784221  , \n",
        "2. gamma : 3.6248389723366706e-05 , \n",
        "3. epsilon : 0.0011616828309439185. \n",
        "\n",
        "This combination minimizes the MAE to 2.3166163618840496.\n",
        "\n",
        "The execution time was 1m5s."
      ]
    },
    {
      "cell_type": "markdown",
      "metadata": {
        "id": "VqIUrJQ9zjpM",
        "colab_type": "text"
      },
      "source": [
        "# **PSO**"
      ]
    },
    {
      "cell_type": "code",
      "metadata": {
        "id": "QqiUlnFbzmBt",
        "colab_type": "code",
        "outputId": "98e680d3-90de-418f-ca31-cfbadfa89eb0",
        "colab": {
          "base_uri": "https://localhost:8080/",
          "height": 224
        }
      },
      "source": [
        "!pip install  pyswarm"
      ],
      "execution_count": 165,
      "outputs": [
        {
          "output_type": "stream",
          "text": [
            "Collecting pyswarm\n",
            "  Downloading https://files.pythonhosted.org/packages/79/1e/254c108b5e65c65d57a83a9a448405ea8b6a6c5c10dada8bcab4e9d9a831/pyswarm-0.6.tar.gz\n",
            "Requirement already satisfied: numpy in /usr/local/lib/python3.6/dist-packages (from pyswarm) (1.18.4)\n",
            "Building wheels for collected packages: pyswarm\n",
            "  Building wheel for pyswarm (setup.py) ... \u001b[?25l\u001b[?25hdone\n",
            "  Created wheel for pyswarm: filename=pyswarm-0.6-cp36-none-any.whl size=4481 sha256=c528cf53601a2242316d9dd5700eefda349e59272780e879d1ba797407b5c5a2\n",
            "  Stored in directory: /root/.cache/pip/wheels/37/c5/f6/b33b9ac00040cb95c1f00af982a4197334a672d6de43f4699f\n",
            "Successfully built pyswarm\n",
            "Installing collected packages: pyswarm\n",
            "Successfully installed pyswarm-0.6\n",
            "time: 4.8 s\n"
          ],
          "name": "stdout"
        }
      ]
    },
    {
      "cell_type": "code",
      "metadata": {
        "id": "VfYujKj9z4dE",
        "colab_type": "code",
        "outputId": "68ffb931-b343-4696-8f5b-48597df4be68",
        "colab": {
          "base_uri": "https://localhost:8080/",
          "height": 51
        }
      },
      "source": [
        "from pyswarm import pso\n",
        "from sklearn.metrics import mean_absolute_error\n",
        "\n",
        "def objective(x):\n",
        "    C_value, gamma_value, epsilon_value  = x\n",
        "    C_value = 2**C_value\n",
        "    gamma_value = 2**gamma_value\n",
        "    svr = SVR(kernel='rbf', C= C_value, epsilon= epsilon_value, gamma= gamma_value)\n",
        "    svr.fit(X_train, Y_train)\n",
        "    Y_pred = svr.predict(X_test)\n",
        "    return mean_absolute_error(Y_test, Y_pred)\n",
        "\n",
        "C_lowerbound = -5\n",
        "C_upperbound = 15\n",
        "\n",
        "gamma_lowerbound = -15\n",
        "gamma_upperbound = 3\n",
        "\n",
        "epsilon_lowerbound = 0.0\n",
        "epsilon_upperbound = 1.0\n",
        "\n",
        "lb = [C_lowerbound, gamma_lowerbound, epsilon_lowerbound]\n",
        "ub = [C_upperbound, gamma_upperbound, epsilon_upperbound]\n",
        "\n",
        "xopt, fopt = pso(objective, lb, ub, swarmsize = 11, maxiter= 11)"
      ],
      "execution_count": 166,
      "outputs": [
        {
          "output_type": "stream",
          "text": [
            "Stopping search: maximum iterations reached --> 11\n",
            "time: 3min 25s\n"
          ],
          "name": "stdout"
        }
      ]
    },
    {
      "cell_type": "code",
      "metadata": {
        "id": "NEObP2C03GUt",
        "colab_type": "code",
        "outputId": "ebe91b8f-90b7-4586-9aef-b1e323fb9ab4",
        "colab": {
          "base_uri": "https://localhost:8080/",
          "height": 71
        }
      },
      "source": [
        "print(\"Best parameters [C, gamma, epsilon]: \", xopt, \"Lowest MAE reached value: \" ,fopt )"
      ],
      "execution_count": 167,
      "outputs": [
        {
          "output_type": "stream",
          "text": [
            "Best parameters [C, gamma, epsilon]:  [ 14.05436066 -15.           0.02925631] Lowest MAE reached value:  2.2742858413991613\n",
            "time: 1.71 ms\n"
          ],
          "name": "stdout"
        }
      ]
    },
    {
      "cell_type": "code",
      "metadata": {
        "id": "n3mbTFWGa_Mj",
        "colab_type": "code",
        "outputId": "6a9b4703-6926-4a25-9054-7a0927b7438d",
        "colab": {
          "base_uri": "https://localhost:8080/",
          "height": 51
        }
      },
      "source": [
        "print(\"C :\",2**xopt[0], \" , gamma :\",  2** xopt[1], \", epsilon :\",  xopt[2])"
      ],
      "execution_count": 168,
      "outputs": [
        {
          "output_type": "stream",
          "text": [
            "C : 17013.126423903264  , gamma : 3.0517578125e-05 , epsilon : 0.029256306782726723\n",
            "time: 2.2 ms\n"
          ],
          "name": "stdout"
        }
      ]
    },
    {
      "cell_type": "markdown",
      "metadata": {
        "id": "EsGCO_-mPbKs",
        "colab_type": "text"
      },
      "source": [
        "The best tuning for the hyperparameters is the following:\n",
        "\n",
        "1. C : 17013.126423903264  , \n",
        "2. gamma : 3.0517578125e-05 , \n",
        "3. epsilon : 0.029256306782726723. \n",
        "\n",
        "This combination minimizes the MAE to 2.2742858413991613.\n",
        "\n",
        "The execution time was 3min and 25s."
      ]
    },
    {
      "cell_type": "markdown",
      "metadata": {
        "id": "_IXbvKki2ga_",
        "colab_type": "text"
      },
      "source": [
        "# **Simulated annealing**"
      ]
    },
    {
      "cell_type": "code",
      "metadata": {
        "id": "rbHN2TA0qawQ",
        "colab_type": "code",
        "outputId": "c3ef779a-897a-4fcc-d415-d78903c0ff17",
        "colab": {
          "base_uri": "https://localhost:8080/",
          "height": 51
        }
      },
      "source": [
        "from scipy.optimize import dual_annealing\n",
        "from sklearn.svm import SVR\n",
        "import numpy as np\n",
        "\n",
        "from sklearn.metrics import mean_absolute_error\n",
        "\n",
        "def objective(params):\n",
        "    C_value = params[0] \n",
        "    gamma_value= params[1] \n",
        "    epsilon_value  = params[2]\n",
        "    C_value = 2**C_value\n",
        "    gamma_value = 2**gamma_value\n",
        "    svr = SVR(kernel='rbf', C=C_value, epsilon = epsilon_value, gamma= gamma_value)\n",
        "    svr.fit(X_train, Y_train)\n",
        "    Y_pred = svr.predict(X_test)\n",
        "    return mean_absolute_error(Y_test, Y_pred)\n",
        "\n",
        "C_lowerbound = -5\n",
        "C_upperbound = 15\n",
        "\n",
        "gamma_lowerbound = -15\n",
        "gamma_upperbound = 3\n",
        "\n",
        "epsilon_lowerbound = 0.1\n",
        "epsilon_upperbound = 1.0\n",
        "\n",
        "lw = [C_lowerbound, gamma_lowerbound, epsilon_lowerbound]\n",
        "up = [C_upperbound, gamma_upperbound, epsilon_upperbound]\n",
        "\n",
        "ret = dual_annealing(objective, bounds=list(zip(lw, up)), no_local_search=True, maxiter = 125)\n",
        "\n",
        "print(\"global minimum: xmin = {0}, f(xmin) = {1:.6f}\".format(ret.x, ret.fun))"
      ],
      "execution_count": 0,
      "outputs": [
        {
          "output_type": "stream",
          "text": [
            "global minimum: xmin = [ 13.21934282 -14.86303894   0.32641787], f(xmin) = 2.313020\n",
            "time: 3min 42s\n"
          ],
          "name": "stdout"
        }
      ]
    },
    {
      "cell_type": "code",
      "metadata": {
        "id": "67Wyu6xLtdKT",
        "colab_type": "code",
        "outputId": "79dffabc-436b-4f58-fadd-412778b45bc8",
        "colab": {
          "base_uri": "https://localhost:8080/",
          "height": 51
        }
      },
      "source": [
        "print(\"C :\",2**ret.x[0], \" , gamma :\",  2** ret.x[1], \", epsilon :\",  ret.x[2])"
      ],
      "execution_count": 0,
      "outputs": [
        {
          "output_type": "stream",
          "text": [
            "C : 9537.152144403466  , gamma : 3.3556716086310645e-05 , epsilon : 0.3264178696524723\n",
            "time: 1.25 ms\n"
          ],
          "name": "stdout"
        }
      ]
    },
    {
      "cell_type": "code",
      "metadata": {
        "id": "nvPljFbufKPP",
        "colab_type": "code",
        "outputId": "2d3d5902-278e-486f-cb15-0a8fffc04448",
        "colab": {
          "base_uri": "https://localhost:8080/",
          "height": 51
        }
      },
      "source": [
        "svr = SVR(kernel='rbf', C=2**ret.x[0], epsilon = ret.x[2], gamma= 2**ret.x[1])\n",
        "svr.fit(X_train, Y_train)\n",
        "Y_pred = svr.predict(X_test)\n",
        "print(mean_absolute_error(Y_test, Y_pred))"
      ],
      "execution_count": 0,
      "outputs": [
        {
          "output_type": "stream",
          "text": [
            "2.3130198794458274\n",
            "time: 746 ms\n"
          ],
          "name": "stdout"
        }
      ]
    },
    {
      "cell_type": "markdown",
      "metadata": {
        "id": "ZuSeRwk5PnJs",
        "colab_type": "text"
      },
      "source": [
        "The best tuning for the hyperparameters is the following:\n",
        "\n",
        "1. C : 9537.152144403466  , \n",
        "2. gamma : 3.3556716086310645e-05 , \n",
        "3. epsilon : 0.3264178696524723. \n",
        "\n",
        "This combination minimizes the MAE to 2.3130198794458274.\n",
        "\n",
        "The execution time was 3min and 42s."
      ]
    },
    {
      "cell_type": "markdown",
      "metadata": {
        "id": "0f25IJ23Kt02",
        "colab_type": "text"
      },
      "source": [
        "# **CMA**"
      ]
    },
    {
      "cell_type": "markdown",
      "metadata": {
        "id": "MXM9DoanvXL6",
        "colab_type": "text"
      },
      "source": [
        "https://github.com/CyberAgent/cmaes"
      ]
    },
    {
      "cell_type": "code",
      "metadata": {
        "id": "C5R6m2L9KvjI",
        "colab_type": "code",
        "outputId": "96de2864-7d2b-4793-cb55-acda1de5e778",
        "colab": {
          "base_uri": "https://localhost:8080/",
          "height": 156
        }
      },
      "source": [
        "pip install cma"
      ],
      "execution_count": 0,
      "outputs": [
        {
          "output_type": "stream",
          "text": [
            "Collecting cma\n",
            "\u001b[?25l  Downloading https://files.pythonhosted.org/packages/36/c0/0a1c41f7cad0a51e07991cf86423d0e6651d035f1fe7dcff48e8858848f2/cma-3.0.3-py2.py3-none-any.whl (230kB)\n",
            "\r\u001b[K     |█▍                              | 10kB 18.0MB/s eta 0:00:01\r\u001b[K     |██▉                             | 20kB 6.8MB/s eta 0:00:01\r\u001b[K     |████▎                           | 30kB 8.1MB/s eta 0:00:01\r\u001b[K     |█████▊                          | 40kB 8.7MB/s eta 0:00:01\r\u001b[K     |███████▏                        | 51kB 7.1MB/s eta 0:00:01\r\u001b[K     |████████▌                       | 61kB 7.7MB/s eta 0:00:01\r\u001b[K     |██████████                      | 71kB 8.7MB/s eta 0:00:01\r\u001b[K     |███████████▍                    | 81kB 9.2MB/s eta 0:00:01\r\u001b[K     |████████████▉                   | 92kB 8.4MB/s eta 0:00:01\r\u001b[K     |██████████████▎                 | 102kB 8.5MB/s eta 0:00:01\r\u001b[K     |███████████████▋                | 112kB 8.5MB/s eta 0:00:01\r\u001b[K     |█████████████████               | 122kB 8.5MB/s eta 0:00:01\r\u001b[K     |██████████████████▌             | 133kB 8.5MB/s eta 0:00:01\r\u001b[K     |████████████████████            | 143kB 8.5MB/s eta 0:00:01\r\u001b[K     |█████████████████████▍          | 153kB 8.5MB/s eta 0:00:01\r\u001b[K     |██████████████████████▊         | 163kB 8.5MB/s eta 0:00:01\r\u001b[K     |████████████████████████▏       | 174kB 8.5MB/s eta 0:00:01\r\u001b[K     |█████████████████████████▋      | 184kB 8.5MB/s eta 0:00:01\r\u001b[K     |███████████████████████████     | 194kB 8.5MB/s eta 0:00:01\r\u001b[K     |████████████████████████████▌   | 204kB 8.5MB/s eta 0:00:01\r\u001b[K     |█████████████████████████████▉  | 215kB 8.5MB/s eta 0:00:01\r\u001b[K     |███████████████████████████████▎| 225kB 8.5MB/s eta 0:00:01\r\u001b[K     |████████████████████████████████| 235kB 8.5MB/s \n",
            "\u001b[?25hRequirement already satisfied: numpy in /usr/local/lib/python3.6/dist-packages (from cma) (1.18.3)\n",
            "Installing collected packages: cma\n",
            "Successfully installed cma-3.0.3\n",
            "time: 4.33 s\n"
          ],
          "name": "stdout"
        }
      ]
    },
    {
      "cell_type": "code",
      "metadata": {
        "id": "YWbXqPpnPx_D",
        "colab_type": "code",
        "outputId": "c5b1f792-b98e-4e27-d324-492db28f0ffb",
        "colab": {
          "base_uri": "https://localhost:8080/",
          "height": 850
        }
      },
      "source": [
        "import cma\n",
        "from sklearn.metrics import mean_absolute_error\n",
        "from sklearn.svm import SVR\n",
        "import numpy as np\n",
        "\n",
        "def objective(x):\n",
        "    C_value = 2**( -5 + x[0]*20 )\n",
        "    gamma_value = 2**( -15 + x[1]*18 )\n",
        "    svr = SVR(kernel='rbf', C= C_value, epsilon=abs( x[2] ), gamma= gamma_value)\n",
        "    svr.fit(X_train, Y_train)\n",
        "    Y_pred = svr.predict(X_test)\n",
        "    return mean_absolute_error(Y_test, Y_pred)\n",
        "\n",
        "C_lowerbound = 0\n",
        "C_upperbound = 1\n",
        "\n",
        "gamma_lowerbound = 0\n",
        "gamma_upperbound = 1\n",
        "\n",
        "epsilon_lowerbound = 0\n",
        "epsilon_upperbound = 1\n",
        "\n",
        "lw_bound = [C_lowerbound, gamma_lowerbound, epsilon_lowerbound]\n",
        "up_bound = [C_upperbound, gamma_upperbound, epsilon_upperbound]\n",
        "\n",
        "x0 = 3 * [0.1]\n",
        "sigma = 0.25\n",
        "\n",
        "es = cma.CMAEvolutionStrategy(x0, sigma, {'bounds': [lw_bound, up_bound]})\n",
        "es.optimize(objective, iterations=125)"
      ],
      "execution_count": 0,
      "outputs": [
        {
          "output_type": "stream",
          "text": [
            "(3_w,7)-aCMA-ES (mu_w=2.3,w_1=58%) in dimension 3 (seed=1067096, Fri May  8 14:55:24 2020)\n",
            "Iterat #Fevals   function value  axis ratio  sigma  min&max std  t[m:s]\n",
            "    1      7 4.424422987071383e+00 1.0e+00 2.53e-01  2e-01  3e-01 0:00.1\n",
            "    2     14 3.742507117802927e+00 1.3e+00 3.27e-01  2e-01  5e-01 0:00.3\n",
            "    3     21 3.090390348611081e+00 2.0e+00 3.32e-01  2e-01  4e-01 0:00.6\n",
            "    4     28 3.662712471406125e+00 1.9e+00 3.04e-01  2e-01  3e-01 0:06.2\n",
            "    6     42 3.666972451250105e+00 1.8e+00 2.52e-01  1e-01  3e-01 0:10.4\n",
            "   14     98 2.433121397728236e+00 4.0e+00 4.81e-01  2e-01  7e-01 0:22.3\n",
            "   15    105 2.422312361566948e+00 4.5e+00 4.64e-01  2e-01  6e-01 0:31.8\n",
            "   16    112 2.307529728740064e+00 5.2e+00 4.27e-01  2e-01  6e-01 0:42.4\n",
            "   17    119 2.359273515119458e+00 5.9e+00 4.53e-01  1e-01  7e-01 0:50.4\n",
            "   18    126 2.298630905749822e+00 7.1e+00 4.29e-01  1e-01  7e-01 1:00.9\n",
            "   20    140 2.359812016852811e+00 8.1e+00 2.96e-01  7e-02  5e-01 1:19.2\n",
            "   21    147 2.287330363314429e+00 8.7e+00 2.42e-01  5e-02  4e-01 1:37.6\n",
            "   22    154 2.300371749875313e+00 9.9e+00 1.94e-01  3e-02  3e-01 1:53.6\n",
            "   23    161 2.322119199261256e+00 9.7e+00 1.57e-01  2e-02  2e-01 2:09.0\n",
            "   24    168 2.284806768752267e+00 1.1e+01 1.32e-01  2e-02  2e-01 2:24.0\n",
            "   26    182 2.285447859118200e+00 1.0e+01 1.05e-01  1e-02  1e-01 2:49.6\n",
            "   28    196 2.280224962537841e+00 1.0e+01 7.90e-02  1e-02  9e-02 3:12.7\n",
            "   30    210 2.279888245190873e+00 1.2e+01 9.40e-02  1e-02  1e-01 3:35.4\n",
            "   32    224 2.275980329242456e+00 1.0e+01 7.97e-02  1e-02  9e-02 3:58.1\n",
            "   34    238 2.278382765054466e+00 1.0e+01 6.17e-02  7e-03  6e-02 4:25.1\n",
            "   36    252 2.277074181927260e+00 1.0e+01 4.34e-02  4e-03  4e-02 4:53.4\n",
            "   38    266 2.276458625356562e+00 9.4e+00 4.11e-02  3e-03  3e-02 5:20.6\n",
            "   40    280 2.278079400229696e+00 1.0e+01 2.95e-02  2e-03  2e-02 5:46.5\n",
            "   42    294 2.274608816092687e+00 9.4e+00 3.47e-02  2e-03  2e-02 6:09.5\n",
            "   45    315 2.274550685676157e+00 8.2e+00 2.55e-02  1e-03  1e-02 6:41.5\n",
            "   48    336 2.274674532242532e+00 9.8e+00 1.44e-02  5e-04  5e-03 7:12.4\n",
            "   51    357 2.274983406183906e+00 8.1e+00 1.62e-02  5e-04  4e-03 7:44.0\n",
            "   54    378 2.275573994231697e+00 9.2e+00 2.03e-02  6e-04  5e-03 8:17.1\n",
            "   57    399 2.274950102903254e+00 1.1e+01 1.85e-02  5e-04  4e-03 8:48.2\n",
            "   60    420 2.274734746834957e+00 1.1e+01 1.09e-02  2e-04  2e-03 9:17.5\n",
            "   63    441 2.274969280272482e+00 1.2e+01 1.54e-02  4e-04  3e-03 9:49.9\n",
            "   66    462 2.275202560748633e+00 1.1e+01 2.13e-02  5e-04  4e-03 10:21.8\n",
            "   70    490 2.275564330579290e+00 1.0e+01 1.98e-02  4e-04  3e-03 11:01.5\n",
            "   74    518 2.274586277729508e+00 8.5e+00 3.30e-02  6e-04  4e-03 11:41.6\n",
            "   78    546 2.274219969431259e+00 8.1e+00 2.05e-02  4e-04  2e-03 12:22.2\n",
            "   82    574 2.275184588393471e+00 6.3e+00 1.57e-02  2e-04  1e-03 13:02.6\n",
            "   86    602 2.274730403561434e+00 5.9e+00 1.28e-02  1e-04  9e-04 13:43.2\n",
            "   90    630 2.274241983039670e+00 9.2e+00 1.03e-02  8e-05  6e-04 14:23.9\n",
            "   94    658 2.274833121596656e+00 8.4e+00 1.34e-02  9e-05  8e-04 15:04.5\n",
            "   98    686 2.274634524558308e+00 1.2e+01 1.39e-02  8e-05  1e-03 15:43.9\n",
            "  100    700 2.274175768004152e+00 1.3e+01 1.37e-02  6e-05  1e-03 16:03.1\n",
            "  104    728 2.274698610769958e+00 2.0e+01 1.73e-02  1e-04  1e-03 16:46.8\n",
            "  109    763 2.274939435360939e+00 2.3e+01 1.48e-02  9e-05  1e-03 17:38.2\n",
            "  114    798 2.274271490136979e+00 2.3e+01 1.39e-02  8e-05  1e-03 18:28.4\n",
            "  119    833 2.274341927399971e+00 3.1e+01 1.06e-02  6e-05  6e-04 19:21.0\n",
            "  124    868 2.274934544418424e+00 5.5e+01 1.29e-02  1e-04  1e-03 20:12.1\n"
          ],
          "name": "stdout"
        },
        {
          "output_type": "execute_result",
          "data": {
            "text/plain": [
              "<cma.evolution_strategy.CMAEvolutionStrategy at 0x7fa8843b8c88>"
            ]
          },
          "metadata": {
            "tags": []
          },
          "execution_count": 6
        },
        {
          "output_type": "stream",
          "text": [
            "time: 20min 23s\n"
          ],
          "name": "stdout"
        }
      ]
    },
    {
      "cell_type": "code",
      "metadata": {
        "id": "KjP_W-ZfQOr1",
        "colab_type": "code",
        "outputId": "d8607635-cea5-45c1-de77-456e87a07e59",
        "colab": {
          "base_uri": "https://localhost:8080/",
          "height": 105
        }
      },
      "source": [
        "es.result_pretty()"
      ],
      "execution_count": 0,
      "outputs": [
        {
          "output_type": "stream",
          "text": [
            "final/bestever f-value = 2.274515e+00 2.273549e+00\n",
            "incumbent solution: [0.9525847773005284, 3.173825733309842e-05, 0.03338951973563586]\n",
            "std deviation: [0.00014077014242429176, 0.0010986362431870242, 0.0012248489143510115]\n"
          ],
          "name": "stdout"
        },
        {
          "output_type": "execute_result",
          "data": {
            "text/plain": [
              "CMAEvolutionStrategyResult(xbest=array([9.52402289e-01, 1.88414871e-05, 3.16117478e-02]), fbest=2.2735490333614745, evals_best=636, evaluations=875, iterations=125, xfavorite=array([9.52584777e-01, 3.17382573e-05, 3.33895197e-02]), stds=array([0.00014077, 0.00109864, 0.00122485]), stop={})"
            ]
          },
          "metadata": {
            "tags": []
          },
          "execution_count": 7
        },
        {
          "output_type": "stream",
          "text": [
            "time: 8.88 ms\n"
          ],
          "name": "stdout"
        }
      ]
    },
    {
      "cell_type": "code",
      "metadata": {
        "id": "lHK0esi6H4Rf",
        "colab_type": "code",
        "outputId": "4ab203a6-87d4-4d2c-9b1c-57d4faac0659",
        "colab": {
          "base_uri": "https://localhost:8080/",
          "height": 51
        }
      },
      "source": [
        "C_value = 2**( -5 + 0.9525847773005284*20 )\n",
        "gamma_value = 2**( -15 +  3.173825733309842e-05*18 )\n",
        "\n",
        "print(C_value, gamma_value)"
      ],
      "execution_count": 0,
      "outputs": [
        {
          "output_type": "stream",
          "text": [
            "16981.726782954633 3.052966508538199e-05\n",
            "time: 1.38 ms\n"
          ],
          "name": "stdout"
        }
      ]
    },
    {
      "cell_type": "code",
      "metadata": {
        "id": "8U27kkDrIJyb",
        "colab_type": "code",
        "outputId": "1f340b83-3189-44b2-fa76-e602b52a5f02",
        "colab": {
          "base_uri": "https://localhost:8080/",
          "height": 51
        }
      },
      "source": [
        "svr = SVR(kernel='rbf', C= C_value, epsilon=abs( 0.03338951973563586 ), gamma= gamma_value)\n",
        "svr.fit(X_train, Y_train)\n",
        "Y_pred = svr.predict(X_test)\n",
        "print(mean_absolute_error(Y_test, Y_pred))"
      ],
      "execution_count": 0,
      "outputs": [
        {
          "output_type": "stream",
          "text": [
            "2.275273646800402\n",
            "time: 1.34 s\n"
          ],
          "name": "stdout"
        }
      ]
    },
    {
      "cell_type": "markdown",
      "metadata": {
        "id": "f97zbDWSPxXh",
        "colab_type": "text"
      },
      "source": [
        "The best tuning for the hyperparameters is the following:\n",
        "\n",
        "1. C : 16981.726782954633 \n",
        "2. gamma : 3.052966508538199e-05 \n",
        "3. epsilon : 0.03338951973563586 \n",
        "\n",
        "This combination minimizes the MAE to 2.275273646800402.\n",
        "\n",
        "The execution time was 20min and 23s."
      ]
    },
    {
      "cell_type": "markdown",
      "metadata": {
        "id": "7XKJjLIKRHeK",
        "colab_type": "text"
      },
      "source": [
        "# **Conclusion**\n",
        "\n",
        "PSO and CMA gave the best resuults in terms of Mean Absolute Error. Both methods managed to reduce it to around 2.27 . However, it took them some considerable amount of time (1min and 5 sec, and 20 min and 23 sec respectively). \n",
        "\n",
        "The fastest in execution time was the Random Search method, it took 10s to execute. However, it managed to reduce the MAE value to 2.51 (second worst result among all the methods). \n",
        "\n",
        "The Bayezian optimization reached more or less the same value for MAE, around 2.31 , as the Simulated Annealing method. However, it took it much less time (1min 5sec vs 3min 42 sec).\n",
        "\n",
        "The Grid Search took 31sec to minimizes the value of MAE to about 2.54. However, we needed to simulate the Grid Search many times before reaching a low value of 2.54. 125 combinations for the hyperparameters C, gamma and epsilon, was too low. We need to generate randomly more numbers for each parameter (instead of only 5 for each). But this would naturally increase the time to execute this search method for tuning.\n",
        "\n",
        "Depending on which MAE value is acceptable, someone could choose PSO method to reach a very low value of MAE but would have to spend some time for this method to execute. Or, they could select the Random Search method for much faster tuning of the hyperparaemeters, but they would risk getting a higher MAE value.\n"
      ]
    },
    {
      "cell_type": "code",
      "metadata": {
        "id": "_yf0-dCUTv6M",
        "colab_type": "code",
        "colab": {}
      },
      "source": [
        ""
      ],
      "execution_count": 0,
      "outputs": []
    }
  ]
}