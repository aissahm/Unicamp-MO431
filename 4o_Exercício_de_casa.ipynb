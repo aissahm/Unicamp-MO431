{
  "nbformat": 4,
  "nbformat_minor": 0,
  "metadata": {
    "colab": {
      "name": "4o Exercício de casa.ipynb",
      "provenance": [],
      "collapsed_sections": [],
      "authorship_tag": "ABX9TyOfi4fs1BgRyVpo8KdEBER/",
      "include_colab_link": true
    },
    "kernelspec": {
      "name": "python3",
      "display_name": "Python 3"
    }
  },
  "cells": [
    {
      "cell_type": "markdown",
      "metadata": {
        "id": "view-in-github",
        "colab_type": "text"
      },
      "source": [
        "<a href=\"https://colab.research.google.com/github/aissahm/Unicamp-MO431/blob/master/4o_Exerc%C3%ADcio_de_casa.ipynb\" target=\"_parent\"><img src=\"https://colab.research.google.com/assets/colab-badge.svg\" alt=\"Open In Colab\"/></a>"
      ]
    },
    {
      "cell_type": "markdown",
      "metadata": {
        "id": "vaq9zob57OoF",
        "colab_type": "text"
      },
      "source": [
        "# **4o Exercício de casa**\n",
        "\n",
        "**Objective:**\n",
        "\n",
        "Seearch for the best combinations of hyperparameters for the SVM for regression in a particular database\n"
      ]
    },
    {
      "cell_type": "code",
      "metadata": {
        "id": "p3zQpCt67NjT",
        "colab_type": "code",
        "colab": {}
      },
      "source": [
        "# Imports\n",
        "import numpy as np\n",
        "\n",
        "X_train = np.load(\"/content/Xtreino5.npy\")\n",
        "Y_train = np.load(\"/content/ytreino5.npy\")\n",
        "\n",
        "X_test = np.load(\"/content/Xteste5.npy\")\n",
        "Y_test = np.load(\"/content/yteste5.npy\")"
      ],
      "execution_count": 0,
      "outputs": []
    },
    {
      "cell_type": "code",
      "metadata": {
        "id": "1k10yALkCSqQ",
        "colab_type": "code",
        "colab": {
          "base_uri": "https://localhost:8080/",
          "height": 51
        },
        "outputId": "bbcee11d-21ac-4f52-dd72-637796bf7a53"
      },
      "source": [
        "print(X_train.shape)\n",
        "print(Y_train.shape)"
      ],
      "execution_count": 4,
      "outputs": [
        {
          "output_type": "stream",
          "text": [
            "(404, 13)\n",
            "(404,)\n"
          ],
          "name": "stdout"
        }
      ]
    },
    {
      "cell_type": "code",
      "metadata": {
        "id": "4_bgm9QH_i3M",
        "colab_type": "code",
        "colab": {
          "base_uri": "https://localhost:8080/",
          "height": 51
        },
        "outputId": "4f746f0d-5c9f-477d-caca-9b9f5f20046b"
      },
      "source": [
        "from sklearn.svm import SVR\n",
        "import numpy as np\n",
        "\n",
        "svr = SVR(kernel='rbf', C=10.0, epsilon=3.5, gamma=1.)\n",
        "svr.fit(X_train, Y_train)"
      ],
      "execution_count": 22,
      "outputs": [
        {
          "output_type": "execute_result",
          "data": {
            "text/plain": [
              "SVR(C=10.0, cache_size=200, coef0=0.0, degree=3, epsilon=3.5, gamma=1.0,\n",
              "    kernel='rbf', max_iter=-1, shrinking=True, tol=0.001, verbose=False)"
            ]
          },
          "metadata": {
            "tags": []
          },
          "execution_count": 22
        }
      ]
    },
    {
      "cell_type": "code",
      "metadata": {
        "id": "5dIRdqHRDLa0",
        "colab_type": "code",
        "colab": {}
      },
      "source": [
        "Y_pred = svr.predict(X_test)"
      ],
      "execution_count": 0,
      "outputs": []
    },
    {
      "cell_type": "code",
      "metadata": {
        "id": "sGYVp0IXDgEU",
        "colab_type": "code",
        "colab": {
          "base_uri": "https://localhost:8080/",
          "height": 34
        },
        "outputId": "66b773ea-8379-42b7-9aa4-45583439d740"
      },
      "source": [
        "print(svr.score(X_test, Y_test))"
      ],
      "execution_count": 23,
      "outputs": [
        {
          "output_type": "stream",
          "text": [
            "-0.0008088086106268211\n"
          ],
          "name": "stdout"
        }
      ]
    },
    {
      "cell_type": "markdown",
      "metadata": {
        "id": "5LmBnRmY8kug",
        "colab_type": "text"
      },
      "source": [
        "# **SVM Regressor**\n",
        "\n",
        "We will use the SVM from scikit-learn : https://scikit-learn.org/stable/modules/generated/sklearn.svm.SVR.html\n",
        "\n",
        "We will use the \"rbf\" kernel with three parameters: C, gamma, and epsilon.\n",
        " \n",
        "With:\n",
        "\n",
        "1. C entre 2^{-5} e 2^{15} (uniforme nos expoentes)\n",
        "2. gamma entre 2^{-15} e 2^{3} (uniforme nos expoentes)\n",
        "3. epsilon entre 0.05 a 1.0 (uniforme neste intervalo)\n",
        "\n",
        "**Medida de erro**\n",
        "\n",
        "We will train the SVM on training data, with the combination of the parameters, and then measure the medida de erro with the test data."
      ]
    },
    {
      "cell_type": "markdown",
      "metadata": {
        "id": "5peJOBn39s2q",
        "colab_type": "text"
      },
      "source": [
        "# **Random search**"
      ]
    },
    {
      "cell_type": "code",
      "metadata": {
        "id": "pDb95Zz-9o4H",
        "colab_type": "code",
        "colab": {
          "base_uri": "https://localhost:8080/",
          "height": 68
        },
        "outputId": "33c02ca1-990c-415d-9b89-91d6e1d51683"
      },
      "source": [
        "from sklearn.model_selection import RandomizedSearchCV\n",
        "from scipy.stats import uniform\n",
        "\n",
        "from sklearn.svm import SVR\n",
        "import numpy as np\n",
        "\n",
        "C_lowerbound = 2**-5\n",
        "C_upperbound = 2**15\n",
        "\n",
        "gamma_lowerbound = 2**-15\n",
        "gamma_upperbound = 2**3\n",
        "\n",
        "svr = SVR(kernel='rbf')\n",
        "distributions = dict(C= uniform(loc=C_lowerbound, scale=C_upperbound), gamma= uniform(loc=gamma_lowerbound, scale=gamma_upperbound), epsilon=uniform())\n",
        "svr_search = RandomizedSearchCV(svr, distributions, random_state=0)\n",
        "search = svr_search.fit(X_train, Y_train)\n",
        "search.best_params_"
      ],
      "execution_count": 31,
      "outputs": [
        {
          "output_type": "execute_result",
          "data": {
            "text/plain": [
              "{'C': 18613.715427925974,\n",
              " 'epsilon': 0.925596638292661,\n",
              " 'gamma': 0.5683189831612205}"
            ]
          },
          "metadata": {
            "tags": []
          },
          "execution_count": 31
        }
      ]
    },
    {
      "cell_type": "code",
      "metadata": {
        "id": "xkV4VXFyS5SP",
        "colab_type": "code",
        "colab": {
          "base_uri": "https://localhost:8080/",
          "height": 68
        },
        "outputId": "b640f91d-605b-4efa-f667-0d4f4e91258c"
      },
      "source": [
        "svr = SVR(kernel='rbf', C=search.best_params_[\"C\"], epsilon=search.best_params_[\"epsilon\"], gamma=search.best_params_[\"gamma\"])\n",
        "svr.fit(X_train, Y_train)"
      ],
      "execution_count": 33,
      "outputs": [
        {
          "output_type": "execute_result",
          "data": {
            "text/plain": [
              "SVR(C=18613.715427925974, cache_size=200, coef0=0.0, degree=3,\n",
              "    epsilon=0.925596638292661, gamma=0.5683189831612205, kernel='rbf',\n",
              "    max_iter=-1, shrinking=True, tol=0.001, verbose=False)"
            ]
          },
          "metadata": {
            "tags": []
          },
          "execution_count": 33
        }
      ]
    },
    {
      "cell_type": "code",
      "metadata": {
        "id": "DgoRuOMqTZ4c",
        "colab_type": "code",
        "colab": {
          "base_uri": "https://localhost:8080/",
          "height": 34
        },
        "outputId": "818f158d-3eef-4085-dc50-03fcaf7db371"
      },
      "source": [
        "print(\"Error: \", svr.score(X_test, Y_test))"
      ],
      "execution_count": 35,
      "outputs": [
        {
          "output_type": "stream",
          "text": [
            "Error:  0.0006079865289774222\n"
          ],
          "name": "stdout"
        }
      ]
    },
    {
      "cell_type": "markdown",
      "metadata": {
        "id": "DxBiI1CuTged",
        "colab_type": "text"
      },
      "source": [
        "# **Grid Search**"
      ]
    },
    {
      "cell_type": "code",
      "metadata": {
        "id": "NCpaJE7JTi9G",
        "colab_type": "code",
        "colab": {}
      },
      "source": [
        "from sklearn.model_selection import GridSearchCV\n",
        "svr = GridSearchCV(SVR(kernel='rbf'), param_grid={\"C\": np.linspace(C_lowerbound, C_upperbound, num=5), \"gamma\": np.linspace(gamma_lowerbound, gamma_upperbound, num=5), \"epsilon\": np.linspace(0.0, 1.0, num=5)})"
      ],
      "execution_count": 0,
      "outputs": []
    },
    {
      "cell_type": "code",
      "metadata": {
        "id": "i-0zwWKHXXNA",
        "colab_type": "code",
        "colab": {}
      },
      "source": [
        "svr.fit(X_train, Y_train)\n",
        "sv_ind = svr.best_estimator_.support_"
      ],
      "execution_count": 0,
      "outputs": []
    },
    {
      "cell_type": "code",
      "metadata": {
        "id": "lfQjtWGDYoDz",
        "colab_type": "code",
        "colab": {}
      },
      "source": [
        "best = svr.best_estimator_"
      ],
      "execution_count": 0,
      "outputs": []
    },
    {
      "cell_type": "code",
      "metadata": {
        "id": "TH_9gCVoZ40g",
        "colab_type": "code",
        "colab": {
          "base_uri": "https://localhost:8080/",
          "height": 68
        },
        "outputId": "53b9693e-6f3b-459a-825c-60c77d6cdd3b"
      },
      "source": [
        "print(best)"
      ],
      "execution_count": 48,
      "outputs": [
        {
          "output_type": "stream",
          "text": [
            "SVR(C=8192.0234375, cache_size=200, coef0=0.0, degree=3, epsilon=1.0,\n",
            "    gamma=3.0517578125e-05, kernel='rbf', max_iter=-1, shrinking=True,\n",
            "    tol=0.001, verbose=False)\n"
          ],
          "name": "stdout"
        }
      ]
    },
    {
      "cell_type": "code",
      "metadata": {
        "id": "vxSGhrbRaKqT",
        "colab_type": "code",
        "colab": {
          "base_uri": "https://localhost:8080/",
          "height": 34
        },
        "outputId": "dc283151-1b9f-45f1-d9d7-3b0a1cd4b240"
      },
      "source": [
        "svr = SVR(kernel='rbf', C=best.C, epsilon=best.epsilon, gamma=best.gamma)\n",
        "svr.fit(X_train, Y_train)\n",
        "print(\"Error: \", svr.score(X_test, Y_test))"
      ],
      "execution_count": 50,
      "outputs": [
        {
          "output_type": "stream",
          "text": [
            "Error:  0.7948348497877594\n"
          ],
          "name": "stdout"
        }
      ]
    },
    {
      "cell_type": "markdown",
      "metadata": {
        "id": "IjJ6-VhRaefh",
        "colab_type": "text"
      },
      "source": [
        "# **Bayesian Optimization**\n",
        "\n",
        "We use the library from: https://github.com/hyperopt/hyperopt"
      ]
    },
    {
      "cell_type": "code",
      "metadata": {
        "id": "NH9OjBHIahN-",
        "colab_type": "code",
        "colab": {}
      },
      "source": [
        "!pip install hyperopt"
      ],
      "execution_count": 0,
      "outputs": []
    },
    {
      "cell_type": "code",
      "metadata": {
        "id": "oKm-IGwfchri",
        "colab_type": "code",
        "colab": {
          "base_uri": "https://localhost:8080/",
          "height": 34
        },
        "outputId": "0aa896f4-0f23-4245-add1-6171188c31d7"
      },
      "source": [
        "# define an objective function\n",
        "def objective(params):\n",
        "    C_value = params[\"C\"] \n",
        "    gamma_value= params[\"gamma\"] \n",
        "    epsilon_value  = params[\"epsilon\"]\n",
        "    C_value = 2**C_value\n",
        "    gamma_value = 2**gamma_value\n",
        "    svr = SVR(kernel='rbf', C=C_value, epsilon = epsilon_value, gamma= gamma_value)\n",
        "    svr.fit(X_train, Y_train)\n",
        "    return svr.score(X_test, Y_test)\n",
        "\n",
        "C_lowerbound = 2**-5\n",
        "C_upperbound = 2**15\n",
        "\n",
        "gamma_lowerbound = 2**-15\n",
        "gamma_upperbound = 2**3\n",
        "\n",
        "# define a search space\n",
        "from hyperopt import hp\n",
        "space = {\n",
        "    'C': hp.uniform('C', -5, 15),\n",
        "    'gamma': hp.uniform('gamma', -15, 3),\n",
        "    'epsilon': hp.uniform('epsilon', 0.0, 1)\n",
        "}\n",
        "\n",
        "# minimize the objective over the space\n",
        "from hyperopt import fmin, tpe, space_eval\n",
        "best = fmin(objective, space, algo=tpe.suggest, max_evals=100)"
      ],
      "execution_count": 97,
      "outputs": [
        {
          "output_type": "stream",
          "text": [
            "100%|██████████| 100/100 [00:04<00:00, 21.18it/s, best loss: -0.035097100915801205]\n"
          ],
          "name": "stdout"
        }
      ]
    },
    {
      "cell_type": "code",
      "metadata": {
        "id": "vqjaVsyyb16z",
        "colab_type": "code",
        "colab": {
          "base_uri": "https://localhost:8080/",
          "height": 34
        },
        "outputId": "b20f6a07-7d64-4209-eeff-7115ec9b46ea"
      },
      "source": [
        "print(best)"
      ],
      "execution_count": 98,
      "outputs": [
        {
          "output_type": "stream",
          "text": [
            "{'C': -3.87990316232706, 'epsilon': 0.388098152552051, 'gamma': 0.34845060101124603}\n"
          ],
          "name": "stdout"
        }
      ]
    },
    {
      "cell_type": "code",
      "metadata": {
        "id": "hzVNoreAcjH5",
        "colab_type": "code",
        "colab": {
          "base_uri": "https://localhost:8080/",
          "height": 34
        },
        "outputId": "70fa3c45-0043-4389-d93c-e81b3aaa0c54"
      },
      "source": [
        "svr = SVR(kernel='rbf', C=2**best[\"C\"], epsilon = best[\"epsilon\"], gamma=2** best[\"gamma\"])\n",
        "svr.fit(X_train, Y_train)\n",
        "print(svr.score(X_test, Y_test))"
      ],
      "execution_count": 100,
      "outputs": [
        {
          "output_type": "stream",
          "text": [
            "-0.035097100915801205\n"
          ],
          "name": "stdout"
        }
      ]
    },
    {
      "cell_type": "markdown",
      "metadata": {
        "id": "VqIUrJQ9zjpM",
        "colab_type": "text"
      },
      "source": [
        "# **PSO**"
      ]
    },
    {
      "cell_type": "code",
      "metadata": {
        "id": "QqiUlnFbzmBt",
        "colab_type": "code",
        "colab": {
          "base_uri": "https://localhost:8080/",
          "height": 187
        },
        "outputId": "a0ed85b2-9930-4e15-f5fa-69e5cb205d0f"
      },
      "source": [
        "!pip install  pyswarm"
      ],
      "execution_count": 57,
      "outputs": [
        {
          "output_type": "stream",
          "text": [
            "Collecting pyswarm\n",
            "  Downloading https://files.pythonhosted.org/packages/79/1e/254c108b5e65c65d57a83a9a448405ea8b6a6c5c10dada8bcab4e9d9a831/pyswarm-0.6.tar.gz\n",
            "Requirement already satisfied: numpy in /usr/local/lib/python3.6/dist-packages (from pyswarm) (1.18.3)\n",
            "Building wheels for collected packages: pyswarm\n",
            "  Building wheel for pyswarm (setup.py) ... \u001b[?25l\u001b[?25hdone\n",
            "  Created wheel for pyswarm: filename=pyswarm-0.6-cp36-none-any.whl size=4481 sha256=2b0900b49f88f03094780b30eb42c579fcf27523184074757d707313b8cb455b\n",
            "  Stored in directory: /root/.cache/pip/wheels/37/c5/f6/b33b9ac00040cb95c1f00af982a4197334a672d6de43f4699f\n",
            "Successfully built pyswarm\n",
            "Installing collected packages: pyswarm\n",
            "Successfully installed pyswarm-0.6\n"
          ],
          "name": "stdout"
        }
      ]
    },
    {
      "cell_type": "code",
      "metadata": {
        "id": "VfYujKj9z4dE",
        "colab_type": "code",
        "colab": {
          "base_uri": "https://localhost:8080/",
          "height": 34
        },
        "outputId": "a0565279-79e4-4956-9e90-861b55b394b7"
      },
      "source": [
        "from pyswarm import pso\n",
        "\n",
        "def objective(x):\n",
        "    C_value, gamma_value, epsilon_value  = x\n",
        "    C_value = 2**C_value\n",
        "    gamma_value = 2**gamma_value\n",
        "    svr = SVR(kernel='rbf', C= C_value, epsilon= epsilon_value, gamma= gamma_value)\n",
        "    svr.fit(X_train, Y_train)\n",
        "    return svr.score(X_test, Y_test)\n",
        "\n",
        "C_lowerbound = -5\n",
        "C_upperbound = 15\n",
        "\n",
        "gamma_lowerbound = -15\n",
        "gamma_upperbound = 3\n",
        "\n",
        "epsilon_lowerbound = 0.0\n",
        "epsilon_upperbound = 1.0\n",
        "\n",
        "lb = [C_lowerbound, gamma_lowerbound, epsilon_lowerbound]\n",
        "ub = [C_upperbound, gamma_upperbound, epsilon_upperbound]\n",
        "\n",
        "xopt, fopt = pso(objective, lb, ub, swarmsize = 11, maxiter= 11)"
      ],
      "execution_count": 60,
      "outputs": [
        {
          "output_type": "stream",
          "text": [
            "Stopping search: maximum iterations reached --> 11\n"
          ],
          "name": "stdout"
        }
      ]
    },
    {
      "cell_type": "code",
      "metadata": {
        "id": "NEObP2C03GUt",
        "colab_type": "code",
        "colab": {
          "base_uri": "https://localhost:8080/",
          "height": 34
        },
        "outputId": "6a44e72e-d2d6-4e14-fb9c-ba1d83b40167"
      },
      "source": [
        "print( xopt, fopt )"
      ],
      "execution_count": 61,
      "outputs": [
        {
          "output_type": "stream",
          "text": [
            "[-4.98293722  0.34178512  0.38238927] -0.03578826966911808\n"
          ],
          "name": "stdout"
        }
      ]
    },
    {
      "cell_type": "code",
      "metadata": {
        "id": "_HefE5cy2OPw",
        "colab_type": "code",
        "colab": {
          "base_uri": "https://localhost:8080/",
          "height": 34
        },
        "outputId": "dab821f8-dc69-41bf-858a-caa54cdbf018"
      },
      "source": [
        "print( xopt, fopt )"
      ],
      "execution_count": 59,
      "outputs": [
        {
          "output_type": "stream",
          "text": [
            "[0.03125    6.11680812 0.63745124] -0.033306864254991186\n"
          ],
          "name": "stdout"
        }
      ]
    },
    {
      "cell_type": "markdown",
      "metadata": {
        "id": "_IXbvKki2ga_",
        "colab_type": "text"
      },
      "source": [
        "# **Simulated annealing**"
      ]
    },
    {
      "cell_type": "code",
      "metadata": {
        "id": "G-glQTaG2h4x",
        "colab_type": "code",
        "colab": {
          "base_uri": "https://localhost:8080/",
          "height": 105
        },
        "outputId": "9b0a32e0-8d89-4eae-c6d5-0b281bdc9089"
      },
      "source": [
        "!pip install simanneal"
      ],
      "execution_count": 62,
      "outputs": [
        {
          "output_type": "stream",
          "text": [
            "Collecting simanneal\n",
            "  Downloading https://files.pythonhosted.org/packages/8b/cd/1b1f58a8e3fc041e352fb0ac2e4018f8f5be1f5fdde9996f157f0eb6d3cf/simanneal-0.5.0-py2.py3-none-any.whl\n",
            "Installing collected packages: simanneal\n",
            "Successfully installed simanneal-0.5.0\n"
          ],
          "name": "stdout"
        }
      ]
    },
    {
      "cell_type": "markdown",
      "metadata": {
        "id": "0f25IJ23Kt02",
        "colab_type": "text"
      },
      "source": [
        "# **CMA**"
      ]
    },
    {
      "cell_type": "code",
      "metadata": {
        "id": "C5R6m2L9KvjI",
        "colab_type": "code",
        "colab": {}
      },
      "source": [
        "pip install cma"
      ],
      "execution_count": 0,
      "outputs": []
    },
    {
      "cell_type": "code",
      "metadata": {
        "id": "YWbXqPpnPx_D",
        "colab_type": "code",
        "colab": {
          "base_uri": "https://localhost:8080/",
          "height": 170
        },
        "outputId": "a007cd47-07ae-4e2a-b3c4-82dfa741de0c"
      },
      "source": [
        "import cma\n",
        "\n",
        "def objective(x):\n",
        "    #print(\"x\", x)\n",
        "    C_value = 2**( -5 + x[0]*20 )\n",
        "    gamma_value = 2**( -15 + x[1]*18 )\n",
        "    svr = SVR(kernel='rbf', C= C_value, epsilon=abs( x[2] ), gamma= gamma_value)\n",
        "    svr.fit(X_train, Y_train)\n",
        "    return svr.score(X_test, Y_test)\n",
        "\n",
        "C_lowerbound = -5\n",
        "C_upperbound = 15\n",
        "\n",
        "gamma_lowerbound = -15\n",
        "gamma_upperbound = 3\n",
        "\n",
        "epsilon_lowerbound = 0.1\n",
        "epsilon_upperbound = 1.0\n",
        "\n",
        "es = cma.CMAEvolutionStrategy(3 * [0.1], 0.1, {'seed':125})\n",
        "es.optimize(objective)"
      ],
      "execution_count": 116,
      "outputs": [
        {
          "output_type": "stream",
          "text": [
            "(3_w,7)-aCMA-ES (mu_w=2.3,w_1=58%) in dimension 3 (seed=125, Wed May  6 03:53:54 2020)\n",
            "Iterat #Fevals   function value  axis ratio  sigma  min&max std  t[m:s]\n",
            "    1      7 -2.731121310024110e-02 1.0e+00 1.23e-01  1e-01  2e-01 0:00.1\n",
            "    2     14 -1.844965362025763e-02 1.5e+00 1.29e-01  1e-01  2e-01 0:00.3\n",
            "    3     21 -3.137542277087824e-02 1.4e+00 2.02e-01  2e-01  2e-01 0:00.4\n",
            "   30    210 -3.554120449827858e-02 2.2e+00 1.01e+00  6e-01  1e+00 0:03.4\n",
            "   66    462 -3.611339830242355e-02 1.3e+02 1.28e-01  2e-03  2e-01 0:07.4\n",
            "   85    595 -3.611339830242355e-02 9.0e+02 5.90e-02  1e-04  9e-02 0:09.7\n"
          ],
          "name": "stdout"
        },
        {
          "output_type": "execute_result",
          "data": {
            "text/plain": [
              "<cma.evolution_strategy.CMAEvolutionStrategy at 0x7fe7b80168d0>"
            ]
          },
          "metadata": {
            "tags": []
          },
          "execution_count": 116
        }
      ]
    },
    {
      "cell_type": "code",
      "metadata": {
        "id": "KjP_W-ZfQOr1",
        "colab_type": "code",
        "colab": {
          "base_uri": "https://localhost:8080/",
          "height": 122
        },
        "outputId": "a4c22255-347c-45e3-fc3b-92a1a673cfdb"
      },
      "source": [
        "es.result_pretty()"
      ],
      "execution_count": 117,
      "outputs": [
        {
          "output_type": "stream",
          "text": [
            "termination on tolflatfitness=1\n",
            "final/bestever f-value = -3.611340e-02 -3.611340e-02\n",
            "incumbent solution: [-2.9365390382292507, -0.5215112655250695, -0.3997571846835017]\n",
            "std deviation: [0.030118214124302517, 0.08617297322283334, 0.00010328417095892205]\n"
          ],
          "name": "stdout"
        },
        {
          "output_type": "execute_result",
          "data": {
            "text/plain": [
              "CMAEvolutionStrategyResult(xbest=array([-2.91915399, -0.86217398, -0.39980981]), fbest=-0.03611339830242355, evals_best=405, evaluations=595, iterations=85, xfavorite=array([-2.93653904, -0.52151127, -0.39975718]), stds=array([0.03011821, 0.08617297, 0.00010328]), stop={'tolflatfitness': 1})"
            ]
          },
          "metadata": {
            "tags": []
          },
          "execution_count": 117
        }
      ]
    },
    {
      "cell_type": "code",
      "metadata": {
        "id": "lHK0esi6H4Rf",
        "colab_type": "code",
        "colab": {
          "base_uri": "https://localhost:8080/",
          "height": 34
        },
        "outputId": "b3377567-967b-496f-d261-87a568b65aed"
      },
      "source": [
        "C_value = 2**( -5 + -2.93*20 )\n",
        "gamma_value = 2**( -15 +  -0.52*18 )\n",
        "\n",
        "print(C_value, gamma_value)"
      ],
      "execution_count": 118,
      "outputs": [
        {
          "output_type": "stream",
          "text": [
            "7.153066717358898e-20 4.644182799223066e-08\n"
          ],
          "name": "stdout"
        }
      ]
    },
    {
      "cell_type": "code",
      "metadata": {
        "id": "8U27kkDrIJyb",
        "colab_type": "code",
        "colab": {
          "base_uri": "https://localhost:8080/",
          "height": 34
        },
        "outputId": "3d413c85-5e05-4b57-f2e1-c37fc4bf2d3f"
      },
      "source": [
        "svr = SVR(kernel='rbf', C= C_value, epsilon=abs( -0.399 ), gamma= gamma_value)\n",
        "svr.fit(X_train, Y_train)\n",
        "print( svr.score(X_test, Y_test))"
      ],
      "execution_count": 119,
      "outputs": [
        {
          "output_type": "stream",
          "text": [
            "-0.03606702067500023\n"
          ],
          "name": "stdout"
        }
      ]
    }
  ]
}