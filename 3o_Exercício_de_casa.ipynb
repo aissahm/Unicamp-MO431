{
  "nbformat": 4,
  "nbformat_minor": 0,
  "metadata": {
    "colab": {
      "name": "3o Exercício de casa.ipynb",
      "provenance": [],
      "collapsed_sections": [],
      "toc_visible": true,
      "authorship_tag": "ABX9TyO6iDGCCVgFzbRjL9qfawXk",
      "include_colab_link": true
    },
    "kernelspec": {
      "name": "python3",
      "display_name": "Python 3"
    }
  },
  "cells": [
    {
      "cell_type": "markdown",
      "metadata": {
        "id": "view-in-github",
        "colab_type": "text"
      },
      "source": [
        "<a href=\"https://colab.research.google.com/github/aissahm/Unicamp-MO431/blob/master/3o_Exerc%C3%ADcio_de_casa.ipynb\" target=\"_parent\"><img src=\"https://colab.research.google.com/assets/colab-badge.svg\" alt=\"Open In Colab\"/></a>"
      ]
    },
    {
      "cell_type": "markdown",
      "metadata": {
        "id": "rJ2Z-4EiNH4F",
        "colab_type": "text"
      },
      "source": [
        "RA - 265189 - Aissa Hadj Mohamed\n",
        "\n",
        "# **3o Exercício de casa**"
      ]
    },
    {
      "cell_type": "markdown",
      "metadata": {
        "id": "Em4gNjqeyp8m",
        "colab_type": "text"
      },
      "source": [
        "We import the libraries needed for the project:"
      ]
    },
    {
      "cell_type": "code",
      "metadata": {
        "id": "pOhyCYKsyoQV",
        "colab_type": "code",
        "colab": {}
      },
      "source": [
        "from scipy.optimize import minimize, rosen, rosen_der, line_search\n",
        "import numpy as np"
      ],
      "execution_count": 0,
      "outputs": []
    },
    {
      "cell_type": "markdown",
      "metadata": {
        "id": "MZVqC7uQ9gW1",
        "colab_type": "text"
      },
      "source": [
        "We install the following library to collect the execution time for each method. Also, as a side note, instead of printing the results of each minimize call, we decided to print them in a different cell as it takes a significative amount of time to just print the results."
      ]
    },
    {
      "cell_type": "code",
      "metadata": {
        "id": "ZLBe7Icd8oC7",
        "colab_type": "code",
        "colab": {
          "base_uri": "https://localhost:8080/",
          "height": 190
        },
        "outputId": "334b8d5b-a2d4-4cb3-9820-3898dc088e67"
      },
      "source": [
        "!pip install ipython-autotime\n",
        "\n",
        "%load_ext autotime"
      ],
      "execution_count": 16,
      "outputs": [
        {
          "output_type": "stream",
          "text": [
            "Collecting ipython-autotime\n",
            "  Downloading https://files.pythonhosted.org/packages/e6/f9/0626bbdb322e3a078d968e87e3b01341e7890544de891d0cb613641220e6/ipython-autotime-0.1.tar.bz2\n",
            "Building wheels for collected packages: ipython-autotime\n",
            "  Building wheel for ipython-autotime (setup.py) ... \u001b[?25l\u001b[?25hdone\n",
            "  Created wheel for ipython-autotime: filename=ipython_autotime-0.1-cp36-none-any.whl size=1832 sha256=88a4e9a1dedd8429eaca6d95c9046050530dbab5e71283341b2b0b07f7e45d77\n",
            "  Stored in directory: /root/.cache/pip/wheels/d2/df/81/2db1e54bc91002cec40334629bc39cfa86dff540b304ebcd6e\n",
            "Successfully built ipython-autotime\n",
            "Installing collected packages: ipython-autotime\n",
            "Successfully installed ipython-autotime-0.1\n"
          ],
          "name": "stdout"
        }
      ]
    },
    {
      "cell_type": "markdown",
      "metadata": {
        "id": "5QoIESwXOf1a",
        "colab_type": "text"
      },
      "source": [
        "**We define below the Himmelblau function in two dimensions, as well as its gradient.**"
      ]
    },
    {
      "cell_type": "code",
      "metadata": {
        "id": "HAmoG1Y9Ml7h",
        "colab_type": "code",
        "colab": {}
      },
      "source": [
        "def Himmelblau(x):\n",
        "  return ( (x[0]**2 + x[1] - 11)**2 + ( x[0] + (x[1])**2 - 7 )**2 )\n",
        "\n",
        "def Himmelblau_Jacobian(x):\n",
        "  partial_x0 = 4 * x[0] * ( x[0]**2 + x[1] - 11 ) + 2*( x[0] + x[1]**2 - 7 )\n",
        "  partial_x1 = 2*( x[0]**2 + x[1] - 11 )+ 4 * x[1] * ( x[0] + x[1]**2 - 7 ) \n",
        "  return np.array([partial_x0, partial_x1])"
      ],
      "execution_count": 0,
      "outputs": []
    },
    {
      "cell_type": "markdown",
      "metadata": {
        "id": "EiFAus85Pmbd",
        "colab_type": "text"
      },
      "source": [
        "# **Conjugate gradient method**\n",
        "\n",
        "Conjugate gradient method with the initial point at (4,4)"
      ]
    },
    {
      "cell_type": "code",
      "metadata": {
        "id": "0Hw7yCC5Pqst",
        "colab_type": "code",
        "outputId": "030f76b0-9c47-479f-9b75-498635d3ee24",
        "colab": {
          "base_uri": "https://localhost:8080/",
          "height": 34
        }
      },
      "source": [
        "results = minimize(Himmelblau, [4, 4], method=\"CG\")"
      ],
      "execution_count": 41,
      "outputs": [
        {
          "output_type": "stream",
          "text": [
            "time: 7.26 ms\n"
          ],
          "name": "stdout"
        }
      ]
    },
    {
      "cell_type": "code",
      "metadata": {
        "id": "dveRqG9E9yN8",
        "colab_type": "code",
        "colab": {
          "base_uri": "https://localhost:8080/",
          "height": 187
        },
        "outputId": "066efeb6-7a23-4da5-9c5b-c27268770d8a"
      },
      "source": [
        "print(results)"
      ],
      "execution_count": 42,
      "outputs": [
        {
          "output_type": "stream",
          "text": [
            "     fun: 1.9486292751344026e-15\n",
            "     jac: array([ 5.80747415e-08, -1.19842767e-08])\n",
            " message: 'Optimization terminated successfully.'\n",
            "    nfev: 68\n",
            "     nit: 8\n",
            "    njev: 17\n",
            "  status: 0\n",
            " success: True\n",
            "       x: array([2.99999999, 2.        ])\n",
            "time: 1.64 ms\n"
          ],
          "name": "stdout"
        }
      ]
    },
    {
      "cell_type": "markdown",
      "metadata": {
        "id": "pdqcPJA75Urm",
        "colab_type": "text"
      },
      "source": [
        "If we include the Jacobian of the Himmelblau function and pass it to the minimizer function:"
      ]
    },
    {
      "cell_type": "code",
      "metadata": {
        "id": "WW8mHxPB34bB",
        "colab_type": "code",
        "outputId": "f228e8f5-4e82-443f-9eb8-cde5238c4a4e",
        "colab": {
          "base_uri": "https://localhost:8080/",
          "height": 34
        }
      },
      "source": [
        "results = minimize(Himmelblau, [4, 4], method=\"CG\", jac=Himmelblau_Jacobian)"
      ],
      "execution_count": 44,
      "outputs": [
        {
          "output_type": "stream",
          "text": [
            "time: 3.18 ms\n"
          ],
          "name": "stdout"
        }
      ]
    },
    {
      "cell_type": "code",
      "metadata": {
        "id": "VDkY5nJz9-Ci",
        "colab_type": "code",
        "colab": {
          "base_uri": "https://localhost:8080/",
          "height": 187
        },
        "outputId": "d332dc14-0007-4045-f8a6-5850047a341c"
      },
      "source": [
        "print(results)"
      ],
      "execution_count": 45,
      "outputs": [
        {
          "output_type": "stream",
          "text": [
            "     fun: 8.491206913057949e-21\n",
            "     jac: array([-1.00791908e-09, -5.77447423e-10])\n",
            " message: 'Optimization terminated successfully.'\n",
            "    nfev: 17\n",
            "     nit: 8\n",
            "    njev: 17\n",
            "  status: 0\n",
            " success: True\n",
            "       x: array([3., 2.])\n",
            "time: 1.72 ms\n"
          ],
          "name": "stdout"
        }
      ]
    },
    {
      "cell_type": "markdown",
      "metadata": {
        "id": "spJceDP6wl3e",
        "colab_type": "text"
      },
      "source": [
        "When providing the Jacobian using the conjugate gradient method, the minimize function converges to the local minimum (3,2) as when we don't provide it, it needed the same amount of iterations (8) and the same number of evaluations for the Jacobian (17). However, it made lesser Himmelblau function evaluations ( 17 vs 68). Also, we can note that evaluation of the function at the local minimum given by the two methods is relatively different (8.491206913057949e-21 versus 1.9486292751344026e-15). This difference can be explained by the fact that the minimize function reaches the local minimum (2.99999999, 2.), without providing the Jacobian, and (3., 2.) when we do povide it. Also, we provided the Jacobian as an analytical expression which is more precise than computing it by numerical methods, when we don't pass it as a parameter inside the minimize function.  "
      ]
    },
    {
      "cell_type": "markdown",
      "metadata": {
        "id": "WEAhcRSK5k-l",
        "colab_type": "text"
      },
      "source": [
        "# **BFGS**\n",
        "\n",
        "BFGS com ponto inicial em (4,4)"
      ]
    },
    {
      "cell_type": "code",
      "metadata": {
        "id": "jrh9n-NY1P-4",
        "colab_type": "code",
        "colab": {
          "base_uri": "https://localhost:8080/",
          "height": 34
        },
        "outputId": "3dd54c7d-14a6-4348-fa2b-37414d69e4a9"
      },
      "source": [
        "results = minimize(Himmelblau, [4, 4], method=\"L-BFGS-B\", jac=Himmelblau_Jacobian)"
      ],
      "execution_count": 52,
      "outputs": [
        {
          "output_type": "stream",
          "text": [
            "time: 2.2 ms\n"
          ],
          "name": "stdout"
        }
      ]
    },
    {
      "cell_type": "code",
      "metadata": {
        "id": "MoVRTxem-D_Z",
        "colab_type": "code",
        "colab": {
          "base_uri": "https://localhost:8080/",
          "height": 187
        },
        "outputId": "b57be7ba-4f1b-4c30-df37-daf9b89aa9e6"
      },
      "source": [
        "print(results)"
      ],
      "execution_count": 48,
      "outputs": [
        {
          "output_type": "stream",
          "text": [
            "      fun: 8.287611056879445e-13\n",
            " hess_inv: <2x2 LbfgsInvHessProduct with dtype=float64>\n",
            "      jac: array([-6.76429348e-06,  3.62301182e-06])\n",
            "  message: b'CONVERGENCE: NORM_OF_PROJECTED_GRADIENT_<=_PGTOL'\n",
            "     nfev: 10\n",
            "      nit: 9\n",
            "   status: 0\n",
            "  success: True\n",
            "        x: array([2.99999986, 2.00000019])\n",
            "time: 2.45 ms\n"
          ],
          "name": "stdout"
        }
      ]
    },
    {
      "cell_type": "code",
      "metadata": {
        "id": "qS19x32U10Vj",
        "colab_type": "code",
        "colab": {
          "base_uri": "https://localhost:8080/",
          "height": 34
        },
        "outputId": "0a7816cd-37c3-45c0-95a0-d8a05a91f711"
      },
      "source": [
        "results = minimize(Himmelblau, [4, 4], method=\"L-BFGS-B\")"
      ],
      "execution_count": 54,
      "outputs": [
        {
          "output_type": "stream",
          "text": [
            "time: 2.29 ms\n"
          ],
          "name": "stdout"
        }
      ]
    },
    {
      "cell_type": "code",
      "metadata": {
        "id": "OWYd25Q0-NjY",
        "colab_type": "code",
        "colab": {
          "base_uri": "https://localhost:8080/",
          "height": 187
        },
        "outputId": "7f18a9f0-19a2-48dc-f6e7-480609088f76"
      },
      "source": [
        "print(results)"
      ],
      "execution_count": 55,
      "outputs": [
        {
          "output_type": "stream",
          "text": [
            "      fun: 8.502778926721376e-13\n",
            " hess_inv: <2x2 LbfgsInvHessProduct with dtype=float64>\n",
            "      jac: array([-6.76443727e-06,  3.62305493e-06])\n",
            "  message: b'CONVERGENCE: NORM_OF_PROJECTED_GRADIENT_<=_PGTOL'\n",
            "     nfev: 30\n",
            "      nit: 9\n",
            "   status: 0\n",
            "  success: True\n",
            "        x: array([2.99999985, 2.00000019])\n",
            "time: 1.41 ms\n"
          ],
          "name": "stdout"
        }
      ]
    },
    {
      "cell_type": "markdown",
      "metadata": {
        "id": "isMp8Zp_3opK",
        "colab_type": "text"
      },
      "source": [
        "As with the previous method (Conjugate of the Gradient),when providing the Jacobian using the gradient conjugate, the minimize function converges to the local minimum (2.99999985, 2.00000019) as when we don't provide it (2.99999986, 2.00000019), it needed the same amount of iterations (9). However, it made lesser Himmelblau function and gradient evaluations ( 10 vs 30). Also, we can note that evaluation of the function at the local minimum given by the two methods is different (8.287611056879445e-13 versus 8.502778926721376e-13). This difference can be explained by the fact that the minimize function reaches slighlty different values for the local minimum, with and without providing the Jacobian. Also, we provided the Jacobian as an analytical expression which is more precise than evaluating the gradient each time using numerical methods. "
      ]
    },
    {
      "cell_type": "markdown",
      "metadata": {
        "id": "fUaM5w7-BrGc",
        "colab_type": "text"
      },
      "source": [
        "# **Nelder-Mead**\n",
        "\n",
        "Nelder-Mead with initial triangle with the following coordinates (-4,-4) (-4,1),(4,-1). We can note that even though below, we provide the initial point at (4,4), it won't be used by the minimize function as we provided the intial triangle as a parameter."
      ]
    },
    {
      "cell_type": "code",
      "metadata": {
        "id": "UqYEHBniBt1x",
        "colab_type": "code",
        "outputId": "a3d7b2fb-360e-48a4-fd83-7dd4dea6ff7c",
        "colab": {
          "base_uri": "https://localhost:8080/",
          "height": 34
        }
      },
      "source": [
        "x0 = [[-4,-4], [-4,1],[4, -1]]\n",
        "\n",
        "results = minimize(Himmelblau, [4,4], method=\"Nelder-Mead\", options={'initial_simplex': x0})"
      ],
      "execution_count": 56,
      "outputs": [
        {
          "output_type": "stream",
          "text": [
            "time: 5.3 ms\n"
          ],
          "name": "stdout"
        }
      ]
    },
    {
      "cell_type": "code",
      "metadata": {
        "id": "BLFHxalC-r4k",
        "colab_type": "code",
        "colab": {
          "base_uri": "https://localhost:8080/",
          "height": 204
        },
        "outputId": "47f460c8-4dae-4644-95b4-d60c5a71b846"
      },
      "source": [
        "print(results)"
      ],
      "execution_count": 57,
      "outputs": [
        {
          "output_type": "stream",
          "text": [
            " final_simplex: (array([[ 3.58441449, -1.84811588],\n",
            "       [ 3.58442434, -1.84817563],\n",
            "       [ 3.5844613 , -1.84816348]]), array([1.06865670e-08, 3.75594501e-08, 6.84894824e-08]))\n",
            "           fun: 1.0686566996168641e-08\n",
            "       message: 'Optimization terminated successfully.'\n",
            "          nfev: 77\n",
            "           nit: 40\n",
            "        status: 0\n",
            "       success: True\n",
            "             x: array([ 3.58441449, -1.84811588])\n",
            "time: 2 ms\n"
          ],
          "name": "stdout"
        }
      ]
    },
    {
      "cell_type": "markdown",
      "metadata": {
        "id": "JJzB9hXivAYs",
        "colab_type": "text"
      },
      "source": [
        "The local minimum found by the Nelder-Mead method is (3.58441449, -1.84811588). The value of the Himmelblau at this point is 1.0686566996168641e-08. The method needed 77 evaluations of the Himmelblau function and its gradient. "
      ]
    },
    {
      "cell_type": "markdown",
      "metadata": {
        "id": "ztG6IfMhhJxy",
        "colab_type": "text"
      },
      "source": [
        "# **NEWOA**\n",
        "\n",
        "We install the library Py-BOBYQA for the NEWOA method."
      ]
    },
    {
      "cell_type": "code",
      "metadata": {
        "id": "FbW4S-XkhLWN",
        "colab_type": "code",
        "colab": {}
      },
      "source": [
        "pip install Py-BOBYQA"
      ],
      "execution_count": 0,
      "outputs": []
    },
    {
      "cell_type": "code",
      "metadata": {
        "id": "FY1w7_3x9Ait",
        "colab_type": "code",
        "colab": {
          "base_uri": "https://localhost:8080/",
          "height": 34
        },
        "outputId": "2683bb44-63a3-4e02-da51-c6426bcd2e83"
      },
      "source": [
        "import pybobyqa"
      ],
      "execution_count": 27,
      "outputs": [
        {
          "output_type": "stream",
          "text": [
            "time: 918 µs\n"
          ],
          "name": "stdout"
        }
      ]
    },
    {
      "cell_type": "code",
      "metadata": {
        "id": "zii3wp1FjIXz",
        "colab_type": "code",
        "colab": {
          "base_uri": "https://localhost:8080/",
          "height": 34
        },
        "outputId": "3127ab2b-e8c8-4ffc-e8f0-fb34f8178314"
      },
      "source": [
        "results = pybobyqa.solve(Himmelblau, [4, 4])"
      ],
      "execution_count": 62,
      "outputs": [
        {
          "output_type": "stream",
          "text": [
            "time: 123 ms\n"
          ],
          "name": "stdout"
        }
      ]
    },
    {
      "cell_type": "code",
      "metadata": {
        "id": "YQ85IbzPjvPe",
        "colab_type": "code",
        "outputId": "c8fa2d40-fbfa-4d9a-fb73-c32e86735aea",
        "colab": {
          "base_uri": "https://localhost:8080/",
          "height": 221
        }
      },
      "source": [
        "print(results)"
      ],
      "execution_count": 63,
      "outputs": [
        {
          "output_type": "stream",
          "text": [
            "****** Py-BOBYQA Results ******\n",
            "Solution xmin = [3. 2.]\n",
            "Objective value f(xmin) = 1.287703555e-21\n",
            "Needed 58 objective evaluations (at 58 points)\n",
            "Approximate gradient = [6.40524882e-09 5.63832257e-08]\n",
            "Approximate Hessian = [[73.79866449 20.17722278]\n",
            " [20.17722278 34.16328261]]\n",
            "Exit flag = 0\n",
            "Success: rho has reached rhoend\n",
            "******************************\n",
            "\n",
            "time: 2.21 ms\n"
          ],
          "name": "stdout"
        }
      ]
    },
    {
      "cell_type": "markdown",
      "metadata": {
        "id": "OG7--bZauenU",
        "colab_type": "text"
      },
      "source": [
        "The local minimum found by the method is (3, 2). The value of the Himmelblau at this point is 1.287703555e-21. The method needed 58 evaluations of the Himmelblau function as well as its gradient. "
      ]
    },
    {
      "cell_type": "markdown",
      "metadata": {
        "id": "y3z2ksQ1mLU8",
        "colab_type": "text"
      },
      "source": [
        "# **Line search**"
      ]
    },
    {
      "cell_type": "markdown",
      "metadata": {
        "id": "2_RDt85otqGv",
        "colab_type": "text"
      },
      "source": [
        "For the line search method, we start with the initial position of (4, 4). Then, we compute the gradient of the Himmelblau function at each point, and we take its negative value as a direction for the Line Search method. Below, we implement the Line Search method provided by the Scipy library and we iterate until we found a minimum for the Himmelblau function."
      ]
    },
    {
      "cell_type": "code",
      "metadata": {
        "id": "reeffj1I9-O9",
        "colab_type": "code",
        "outputId": "9f334a0b-2bf7-4272-a9f6-669c0f22b19b",
        "colab": {
          "base_uri": "https://localhost:8080/",
          "height": 88
        }
      },
      "source": [
        "nmax = 100\n",
        "x0 = [4,4]\n",
        "xnew = x0\n",
        "n = 0\n",
        "function_evaluation_number = 0\n",
        "gradient_evaluation_number = 0\n",
        "prev_results = []\n",
        "\n",
        "while True: \n",
        "  results = line_search(Himmelblau, Himmelblau_Jacobian, xnew, -Himmelblau_Jacobian(xnew)   )\n",
        "  n = n + 1\n",
        "  function_evaluation_number = function_evaluation_number + results[1]\n",
        "  gradient_evaluation_number = gradient_evaluation_number + results[2]\n",
        "  if n > nmax:\n",
        "    break\n",
        "  if results[0] == None:\n",
        "    break\n",
        "  prev_results = results\n",
        "  xnew = xnew + results[0] * -Himmelblau_Jacobian(xnew)"
      ],
      "execution_count": 64,
      "outputs": [
        {
          "output_type": "stream",
          "text": [
            "time: 20.9 ms\n"
          ],
          "name": "stdout"
        },
        {
          "output_type": "stream",
          "text": [
            "/usr/local/lib/python3.6/dist-packages/scipy/optimize/linesearch.py:314: LineSearchWarning: The line search algorithm did not converge\n",
            "  warn('The line search algorithm did not converge', LineSearchWarning)\n"
          ],
          "name": "stderr"
        }
      ]
    },
    {
      "cell_type": "code",
      "metadata": {
        "id": "mluR_9YK-34S",
        "colab_type": "code",
        "colab": {
          "base_uri": "https://localhost:8080/",
          "height": 156
        },
        "outputId": "49d16292-6c3b-4a24-c80d-b4792e83623a"
      },
      "source": [
        "print(\"Last iteration results =\", prev_results)\n",
        "print(\"Local minimum found = \", xnew)\n",
        "print(\"Himmelblau value at the local minimum =\", Himmelblau(xnew))\n",
        "print(\"Number of iterations =\", n)\n",
        "print(\"Number of function evaluations =\", function_evaluation_number)\n",
        "print(\"Number of gradient evaluations =\", gradient_evaluation_number)"
      ],
      "execution_count": 65,
      "outputs": [
        {
          "output_type": "stream",
          "text": [
            "Last iteration results = (0.008469284914264056, 7, 1, 7.888609052210118e-31, 9.150786500563737e-29, array([-1.77635684e-15,  1.16642198e-14]))\n",
            "Local minimum found =  [-3.77931025 -3.28318599]\n",
            "Himmelblau value at the local minimum = 7.888609052210118e-31\n",
            "Number of iterations = 30\n",
            "Number of function evaluations = 208\n",
            "Number of gradient evaluations = 29\n",
            "time: 5.31 ms\n"
          ],
          "name": "stdout"
        }
      ]
    },
    {
      "cell_type": "markdown",
      "metadata": {
        "id": "Zz9XcKVm5lbi",
        "colab_type": "text"
      },
      "source": [
        "# **Conclusion**"
      ]
    },
    {
      "cell_type": "markdown",
      "metadata": {
        "id": "fFx60oiy5pKf",
        "colab_type": "text"
      },
      "source": [
        "In this exercise, we used 5 different methods, starting from the initial point (4, 4), in order to compute a local minimum of the Himmelblau function. It should be noted that this function contains 4 local minimum. \n",
        "\n",
        "Three methods (Conjugate of the Gradient, L-BFGS-B and NEWOA) found a local minimum at the point (3, 2). The most efficent one was L-BFGS-B, providing the Jacobian to the minimize function, with 9 iterations and only 2.2ms required for execution time.\n",
        "\n",
        "The Nelder-Mead method found a local minimum at point (3.58441449, -1.84811588). It also took a relatively low time to execute, requiring just 5.3ms.\n",
        "\n",
        "The Line Search method found a local minimum at the point (-3.77931025 -3.28318599). It made by far the highest number of Himmelblau function evaluations (195), but required only 20.9ms to execute.\n",
        "\n",
        "The NEWOA optimization algorithm was by far the less efficient method, it required 123ms even though it needed a relatively average number of evaluations of the Himmelblau function of 58.\n"
      ]
    }
  ]
}